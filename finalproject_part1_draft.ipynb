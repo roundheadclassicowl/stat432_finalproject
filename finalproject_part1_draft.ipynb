{
 "cells": [
  {
   "cell_type": "code",
   "execution_count": 1,
   "id": "9e9cfe52",
   "metadata": {},
   "outputs": [],
   "source": [
    "import pandas as pd\n",
    "import numpy as np\n",
    "from numpy import nan\n",
    "import seaborn as sns\n",
    "from scipy import stats\n",
    "import matplotlib.pyplot as plt\n",
    "import warnings\n",
    "warnings.filterwarnings('ignore')"
   ]
  },
  {
   "cell_type": "code",
   "execution_count": 2,
   "id": "b4deeae4",
   "metadata": {},
   "outputs": [
    {
     "name": "stdout",
     "output_type": "stream",
     "text": [
      "<class 'pandas.core.frame.DataFrame'>\n",
      "RangeIndex: 705 entries, 0 to 704\n",
      "Columns: 1941 entries, rs_CLEC3A to histological.type\n",
      "dtypes: float64(827), int64(1110), object(4)\n",
      "memory usage: 10.4+ MB\n"
     ]
    }
   ],
   "source": [
    "brca = pd.read_csv('/Users/junetam/Desktop/STAT432/Final Project/brca_data_w_subtypes.csv')\n",
    "brca.info()"
   ]
  },
  {
   "cell_type": "code",
   "execution_count": 3,
   "id": "8f39ab63",
   "metadata": {},
   "outputs": [
    {
     "name": "stdout",
     "output_type": "stream",
     "text": [
      "<class 'pandas.core.frame.DataFrame'>\n",
      "RangeIndex: 705 entries, 0 to 704\n",
      "Columns: 1936 entries, rs_CLEC3A to pp_p90RSK.pT359.S363\n",
      "dtypes: float64(827), int64(1109)\n",
      "memory usage: 10.4 MB\n"
     ]
    }
   ],
   "source": [
    "PR_Status = brca['PR.Status']\n",
    "ER_Status = brca['ER.Status'] \n",
    "HER2 = brca['HER2.Final.Status']\n",
    "HIST = brca['histological.type']\n",
    "\n",
    "brca_variables = brca.drop(['vital.status', 'PR.Status', 'ER.Status', 'HER2.Final.Status', 'histological.type'], axis=1)\n",
    "brca_outcomes = brca[['vital.status', 'PR.Status', 'ER.Status', 'HER2.Final.Status', 'histological.type']]\n",
    "brca_variables.info()"
   ]
  },
  {
   "cell_type": "code",
   "execution_count": 4,
   "id": "4719e97d",
   "metadata": {
    "scrolled": true
   },
   "outputs": [],
   "source": [
    "test = brca_variables.iloc[:, 0:20]\n"
   ]
  },
  {
   "cell_type": "code",
   "execution_count": 5,
   "id": "d2e76c1b",
   "metadata": {
    "collapsed": true
   },
   "outputs": [
    {
     "data": {
      "text/plain": [
       "<AxesSubplot:xlabel='rs_CPB1'>"
      ]
     },
     "execution_count": 5,
     "metadata": {},
     "output_type": "execute_result"
    },
    {
     "data": {
      "image/png": "[encoded data removed]",
      "text/plain": [
       "<Figure size 432x288 with 1 Axes>"
      ]
     },
     "metadata": {
      "needs_background": "light"
     },
     "output_type": "display_data"
    }
   ],
   "source": [
    "sns.boxplot(brca_variables.iloc[:,1])"
   ]
  },
  {
   "cell_type": "markdown",
   "id": "de91b843",
   "metadata": {},
   "source": [
    "### Identifying any missing values for features"
   ]
  },
  {
   "cell_type": "code",
   "execution_count": 51,
   "id": "7914b876",
   "metadata": {
    "scrolled": true
   },
   "outputs": [
    {
     "data": {
      "text/plain": [
       "Series([], dtype: int64)"
      ]
     },
     "execution_count": 51,
     "metadata": {},
     "output_type": "execute_result"
    }
   ],
   "source": [
    "x = brca_variables.isnull().sum()\n",
    "x[x!=0]"
   ]
  },
  {
   "cell_type": "markdown",
   "id": "416e7ed0",
   "metadata": {},
   "source": [
    "#### It is good that there is no missing value appeared for all the features in the dataset, so we could move forward for further analysis on this data.\n",
    "According to the data description on Kaggle, there are four groups of features, which are `mu` (somatic mutation (yes, no)), `cn` (copy number variation as calculated by gistic (-2,-1,0,1,2)), `rs` (rna sequencing i.e. gene expression) and `pp` (phospho-protein levels). \n",
    "\n",
    "To get an in-depth understanding of our data, we need to check the balence between different categories for each categorical variable (`mu` and `cn`) and identify outliers for continuous variables (`rs` and `pp`)."
   ]
  },
  {
   "cell_type": "code",
   "execution_count": 59,
   "id": "9a0482a1",
   "metadata": {},
   "outputs": [],
   "source": [
    "filter_col_mu = [col for col in brca_variables if col.startswith('mu')]\n",
    "filter_col_cn = [col for col in brca_variables if col.startswith('cn')]\n",
    "filter_col_rs = [col for col in brca_variables if col.startswith('rs')]\n",
    "filter_col_pp = [col for col in brca_variables if col.startswith('pp')]\n",
    "brca_variables_mu = brca_variables[filter_col_mu]\n",
    "brca_variables_cn = brca_variables[filter_col_cn]\n",
    "brca_variables_rs = brca_variables[filter_col_rs]\n",
    "brca_variables_pp = brca_variables[filter_col_pp]"
   ]
  },
  {
   "cell_type": "markdown",
   "id": "c264c3b1",
   "metadata": {},
   "source": [
    "### Check balance between each category for categorical predictors:\n",
    "#### For `mu` and `cn` continuous variables, we need to the disturbution of observations' response for each category that might affect the prediction effect for later modeling."
   ]
  },
  {
   "cell_type": "code",
   "execution_count": 237,
   "id": "93f18593",
   "metadata": {},
   "outputs": [],
   "source": [
    "## Check balance between each category for mu variables\n",
    "def check_balance(df2):\n",
    "    col = []\n",
    "    for column in df2:\n",
    "        if df2.loc[:,column].value_counts()[0] - df2.loc[:,column].value_counts()[1] > 0:\n",
    "            dif = df2.loc[:,column].value_counts()[1]/df2.loc[:,column].value_counts()[0]\n",
    "            if dif < 0.05:\n",
    "                col.append(column)\n",
    "        else:\n",
    "            dif = df2.loc[:,column].value_counts()[0]/df2.loc[:,column].value_counts()[1]\n",
    "            if dif < 0.05:\n",
    "                col.append(column)\n",
    "    return col"
   ]
  },
  {
   "cell_type": "code",
   "execution_count": 214,
   "id": "fb8da9c8",
   "metadata": {
    "scrolled": false
   },
   "outputs": [
    {
     "name": "stdout",
     "output_type": "stream",
     "text": [
      "<class 'pandas.core.frame.DataFrame'>\n",
      "RangeIndex: 705 entries, 0 to 704\n",
      "Columns: 249 entries, mu_ANK3 to mu_PEG3\n",
      "dtypes: int64(249)\n",
      "memory usage: 1.3 MB\n"
     ]
    }
   ],
   "source": [
    "brca_variables_mu.info()"
   ]
  },
  {
   "cell_type": "code",
   "execution_count": 238,
   "id": "497a634d",
   "metadata": {
    "scrolled": false
   },
   "outputs": [
    {
     "data": {
      "text/plain": [
       "228"
      ]
     },
     "execution_count": 238,
     "metadata": {},
     "output_type": "execute_result"
    }
   ],
   "source": [
    "len(check_balance(brca_variables_mu))"
   ]
  },
  {
   "cell_type": "markdown",
   "id": "5ccea628",
   "metadata": {},
   "source": [
    "#### By looking at the frequency of the two categories of  `mu`  binary  variables, a vast majority of these variables are unbalanced. 228 out of 249 variables have less than a ratio of 5:100 of frequency."
   ]
  },
  {
   "cell_type": "code",
   "execution_count": 271,
   "id": "c21fc68d",
   "metadata": {},
   "outputs": [],
   "source": [
    "## Check balance between each category for cn variables\n",
    "def check_balance_1(df2):\n",
    "    col = []\n",
    "    for column in df2:\n",
    "        if df2.loc[:,column].value_counts().max() - df2.loc[:,column].value_counts().min() > 400:\n",
    "            col.append(column)\n",
    "    return col"
   ]
  },
  {
   "cell_type": "code",
   "execution_count": 272,
   "id": "6de5f0b6",
   "metadata": {},
   "outputs": [
    {
     "data": {
      "text/plain": [
       "185"
      ]
     },
     "execution_count": 272,
     "metadata": {},
     "output_type": "execute_result"
    }
   ],
   "source": [
    "len(check_balance_1(brca_variables_cn))"
   ]
  },
  {
   "cell_type": "code",
   "execution_count": 247,
   "id": "7aa77eb8",
   "metadata": {
    "scrolled": false
   },
   "outputs": [
    {
     "name": "stdout",
     "output_type": "stream",
     "text": [
      "<class 'pandas.core.frame.DataFrame'>\n",
      "RangeIndex: 705 entries, 0 to 704\n",
      "Columns: 860 entries, cn_ISG15 to cn_MLC1\n",
      "dtypes: int64(860)\n",
      "memory usage: 4.6 MB\n"
     ]
    }
   ],
   "source": [
    "brca_variables_cn.info()"
   ]
  },
  {
   "cell_type": "markdown",
   "id": "e94dd330",
   "metadata": {},
   "source": [
    "#### By looking at the frequency disturbution of the five categories of  `cn` categorical variables, also, a vast majority of these variables are unbalanced. "
   ]
  },
  {
   "cell_type": "code",
   "execution_count": 241,
   "id": "7e7305e7",
   "metadata": {},
   "outputs": [
    {
     "data": {
      "image/png": "[encoded data removed]",
      "text/plain": [
       "<Figure size 432x288 with 1 Axes>"
      ]
     },
     "metadata": {
      "needs_background": "light"
     },
     "output_type": "display_data"
    }
   ],
   "source": [
    "sns.countplot(x='cn_ISG15', data=brca_variables_cn)\n",
    "plt.title('Number of Superheros by Publisher')\n",
    "plt.ylabel('Number of Superheros')\n",
    "plt.xlabel('Publisher')\n",
    "plt.xticks(rotation = 90)\n",
    "plt.show();"
   ]
  },
  {
   "cell_type": "markdown",
   "id": "06378799",
   "metadata": {},
   "source": [
    "### Identifying outliers for continuous predictors:\n",
    "#### For `rs` and `pp` continuous variables, we need to check the existence of outliers that might affect the prediction effect for later modeling."
   ]
  },
  {
   "cell_type": "code",
   "execution_count": 18,
   "id": "58d181e3",
   "metadata": {},
   "outputs": [],
   "source": [
    "## Identifying variables with outliners, and their corresponding number of outliers\n",
    "def identify_outlier(df):\n",
    "    Q1=df.quantile(0.25)\n",
    "    Q3=df.quantile(0.75)\n",
    "    IQR=Q3-Q1\n",
    "    df_final=df[((df<(Q1-1.5*IQR)) | (df>(Q3+1.5*IQR)))]\n",
    "    return df_final, len(df_final)\n",
    "def find_col(df2):\n",
    "    col = []\n",
    "    num = []\n",
    "    for column in df2:\n",
    "        if identify_outlier(df2.loc[:,column])[1] != 0:\n",
    "            col.append(column)\n",
    "            num.append(identify_outlier(df2.loc[:,column])[1])\n",
    "    res = {col[i]: num[i] for i in range(len(col))}\n",
    "    return res"
   ]
  },
  {
   "cell_type": "code",
   "execution_count": 181,
   "id": "465dbe8b",
   "metadata": {
    "scrolled": false
   },
   "outputs": [],
   "source": [
    "#find_col(brca_variables_rs)\n",
    "#len(brca_variables_rs) 705\n",
    "#len(find_col(brca_variables_rs)) 325"
   ]
  },
  {
   "cell_type": "code",
   "execution_count": 80,
   "id": "204e77ee",
   "metadata": {},
   "outputs": [],
   "source": [
    "def getList(dict):\n",
    "    return list(dict.keys())"
   ]
  },
  {
   "cell_type": "code",
   "execution_count": 88,
   "id": "abcbd878",
   "metadata": {},
   "outputs": [],
   "source": [
    "rs_outliers = getList(find_col(brca_variables_rs))\n",
    "# list of columns with outliers\n",
    "rs_outliers_num = list(find_col(brca_variables_rs). values())\n",
    "# list of numbers of outliers\n",
    "brca_variables_rs_outliers = brca_variables_rs[rs_outliers]"
   ]
  },
  {
   "cell_type": "code",
   "execution_count": 180,
   "id": "a3270503",
   "metadata": {},
   "outputs": [],
   "source": [
    "pd_rs_outliers = pd.DataFrame(find_col(brca_variables_rs).items())\n",
    "#pd_rs_outliers[((pd_rs_outliers[1] < 50) & (pd_rs_outliers[1] > 45)) | (pd_rs_outliers[1] > 100)].sort_values(by=[1])\n",
    "#new_df = pd_rs_outliers.sort_values(by=[1]).head(2).append(pd_rs_outliers[((pd_rs_outliers[1] > 47) & (pd_rs_outliers[1] < 50))]).append(pd_rs_outliers.sort_values(by=[1]).tail(2))\n",
    "#new_df.sort_values(by=[1])"
   ]
  },
  {
   "cell_type": "code",
   "execution_count": 182,
   "id": "6e3d1dbc",
   "metadata": {
    "scrolled": true
   },
   "outputs": [
    {
     "data": {
      "text/plain": [
       "(0, 10]       176\n",
       "(10, 100]     141\n",
       "(100, 500]      8\n",
       "Name: 1, dtype: int64"
      ]
     },
     "execution_count": 182,
     "metadata": {},
     "output_type": "execute_result"
    }
   ],
   "source": [
    "bins = [0, 10, 100, 500]\n",
    "rs_ol_counts = pd.cut(pd_rs_outliers.iloc[:,1], bins)\n",
    "pd.value_counts(rs_ol_counts)"
   ]
  },
  {
   "cell_type": "code",
   "execution_count": 179,
   "id": "2373d822",
   "metadata": {},
   "outputs": [
    {
     "data": {
      "image/png": "[encoded data removed]",
      "text/plain": [
       "<Figure size 864x720 with 5 Axes>"
      ]
     },
     "metadata": {
      "needs_background": "light"
     },
     "output_type": "display_data"
    }
   ],
   "source": [
    "plt.figure(figsize=(12,10))\n",
    "plt.subplot(2,3,1)\n",
    "sns.distplot(brca_variables_rs['rs_LCN2'])\n",
    "plt.legend(labels=['1 outlier'])\n",
    "plt.subplot(2,3,2)\n",
    "sns.distplot(brca_variables_rs['rs_C4orf7'])\n",
    "plt.legend(labels=['8 outliers'])\n",
    "plt.subplot(2,3,3)\n",
    "sns.distplot(brca_variables_rs['rs_NTNG1'])\n",
    "plt.legend(labels=['49 outliers'])\n",
    "plt.subplot(2,3,4)\n",
    "sns.distplot(brca_variables_rs['rs_ERBB4'])\n",
    "plt.legend(labels=['48 outliers'])\n",
    "plt.subplot(2,3,5)\n",
    "sns.distplot(brca_variables_rs['rs_MAGEA3'])\n",
    "plt.legend(labels=['135 outliers'])\n",
    "plt.show()"
   ]
  },
  {
   "cell_type": "markdown",
   "id": "efd89a4b",
   "metadata": {},
   "source": [
    "#### For `rs` variables, we have 325 variables out of 705 that have outliers. And half of these variables has only fewer than 10 observations deviated markedly from others in the sample, which might be erroneously recored, we are considering simply dropping those observations."
   ]
  },
  {
   "cell_type": "code",
   "execution_count": 127,
   "id": "42fd4ba6",
   "metadata": {
    "scrolled": true
   },
   "outputs": [
    {
     "data": {
      "text/html": [
       "<div>\n",
       "<style scoped>\n",
       "    .dataframe tbody tr th:only-of-type {\n",
       "        vertical-align: middle;\n",
       "    }\n",
       "\n",
       "    .dataframe tbody tr th {\n",
       "        vertical-align: top;\n",
       "    }\n",
       "\n",
       "    .dataframe thead th {\n",
       "        text-align: right;\n",
       "    }\n",
       "</style>\n",
       "<table border=\"1\" class=\"dataframe\">\n",
       "  <thead>\n",
       "    <tr style=\"text-align: right;\">\n",
       "      <th></th>\n",
       "      <th>0</th>\n",
       "      <th>1</th>\n",
       "    </tr>\n",
       "  </thead>\n",
       "  <tbody>\n",
       "    <tr>\n",
       "      <th>82</th>\n",
       "      <td>rs_LCN2</td>\n",
       "      <td>1</td>\n",
       "    </tr>\n",
       "    <tr>\n",
       "      <th>187</th>\n",
       "      <td>rs_VIPR2</td>\n",
       "      <td>1</td>\n",
       "    </tr>\n",
       "    <tr>\n",
       "      <th>32</th>\n",
       "      <td>rs_KLK6</td>\n",
       "      <td>1</td>\n",
       "    </tr>\n",
       "    <tr>\n",
       "      <th>283</th>\n",
       "      <td>rs_TNNT3</td>\n",
       "      <td>1</td>\n",
       "    </tr>\n",
       "    <tr>\n",
       "      <th>280</th>\n",
       "      <td>rs_TNNI3</td>\n",
       "      <td>1</td>\n",
       "    </tr>\n",
       "    <tr>\n",
       "      <th>...</th>\n",
       "      <td>...</td>\n",
       "      <td>...</td>\n",
       "    </tr>\n",
       "    <tr>\n",
       "      <th>182</th>\n",
       "      <td>rs_CARTPT</td>\n",
       "      <td>111</td>\n",
       "    </tr>\n",
       "    <tr>\n",
       "      <th>125</th>\n",
       "      <td>rs_HORMAD1</td>\n",
       "      <td>112</td>\n",
       "    </tr>\n",
       "    <tr>\n",
       "      <th>58</th>\n",
       "      <td>rs_MAGEA6</td>\n",
       "      <td>120</td>\n",
       "    </tr>\n",
       "    <tr>\n",
       "      <th>10</th>\n",
       "      <td>rs_GSTT1</td>\n",
       "      <td>126</td>\n",
       "    </tr>\n",
       "    <tr>\n",
       "      <th>85</th>\n",
       "      <td>rs_MAGEA3</td>\n",
       "      <td>135</td>\n",
       "    </tr>\n",
       "  </tbody>\n",
       "</table>\n",
       "<p>325 rows × 2 columns</p>\n",
       "</div>"
      ],
      "text/plain": [
       "              0    1\n",
       "82      rs_LCN2    1\n",
       "187    rs_VIPR2    1\n",
       "32      rs_KLK6    1\n",
       "283    rs_TNNT3    1\n",
       "280    rs_TNNI3    1\n",
       "..          ...  ...\n",
       "182   rs_CARTPT  111\n",
       "125  rs_HORMAD1  112\n",
       "58    rs_MAGEA6  120\n",
       "10     rs_GSTT1  126\n",
       "85    rs_MAGEA3  135\n",
       "\n",
       "[325 rows x 2 columns]"
      ]
     },
     "execution_count": 127,
     "metadata": {},
     "output_type": "execute_result"
    }
   ],
   "source": [
    "#pd_rs_outliers.sort_values(pd_rs_outliers[1])\n",
    "pd_rs_outliers.sort_values(by=[1])"
   ]
  },
  {
   "cell_type": "code",
   "execution_count": 117,
   "id": "2878e45a",
   "metadata": {
    "collapsed": true
   },
   "outputs": [
    {
     "data": {
      "text/html": [
       "<div>\n",
       "<style scoped>\n",
       "    .dataframe tbody tr th:only-of-type {\n",
       "        vertical-align: middle;\n",
       "    }\n",
       "\n",
       "    .dataframe tbody tr th {\n",
       "        vertical-align: top;\n",
       "    }\n",
       "\n",
       "    .dataframe thead th {\n",
       "        text-align: right;\n",
       "    }\n",
       "</style>\n",
       "<table border=\"1\" class=\"dataframe\">\n",
       "  <thead>\n",
       "    <tr style=\"text-align: right;\">\n",
       "      <th></th>\n",
       "      <th>0</th>\n",
       "      <th>1</th>\n",
       "    </tr>\n",
       "  </thead>\n",
       "  <tbody>\n",
       "    <tr>\n",
       "      <th>0</th>\n",
       "      <td>pp_X14.3.3.beta</td>\n",
       "      <td>28</td>\n",
       "    </tr>\n",
       "    <tr>\n",
       "      <th>1</th>\n",
       "      <td>pp_X14.3.3.epsilon</td>\n",
       "      <td>36</td>\n",
       "    </tr>\n",
       "    <tr>\n",
       "      <th>2</th>\n",
       "      <td>pp_X14.3.3.zeta</td>\n",
       "      <td>17</td>\n",
       "    </tr>\n",
       "    <tr>\n",
       "      <th>3</th>\n",
       "      <td>pp_X4E.BP1</td>\n",
       "      <td>32</td>\n",
       "    </tr>\n",
       "    <tr>\n",
       "      <th>4</th>\n",
       "      <td>pp_X4E.BP1.pS65</td>\n",
       "      <td>14</td>\n",
       "    </tr>\n",
       "    <tr>\n",
       "      <th>...</th>\n",
       "      <td>...</td>\n",
       "      <td>...</td>\n",
       "    </tr>\n",
       "    <tr>\n",
       "      <th>217</th>\n",
       "      <td>pp_p62.LCK.ligand</td>\n",
       "      <td>16</td>\n",
       "    </tr>\n",
       "    <tr>\n",
       "      <th>218</th>\n",
       "      <td>pp_p70S6K</td>\n",
       "      <td>49</td>\n",
       "    </tr>\n",
       "    <tr>\n",
       "      <th>219</th>\n",
       "      <td>pp_p70S6K.pT389</td>\n",
       "      <td>33</td>\n",
       "    </tr>\n",
       "    <tr>\n",
       "      <th>220</th>\n",
       "      <td>pp_p90RSK</td>\n",
       "      <td>10</td>\n",
       "    </tr>\n",
       "    <tr>\n",
       "      <th>221</th>\n",
       "      <td>pp_p90RSK.pT359.S363</td>\n",
       "      <td>26</td>\n",
       "    </tr>\n",
       "  </tbody>\n",
       "</table>\n",
       "<p>222 rows × 2 columns</p>\n",
       "</div>"
      ],
      "text/plain": [
       "                        0   1\n",
       "0         pp_X14.3.3.beta  28\n",
       "1      pp_X14.3.3.epsilon  36\n",
       "2         pp_X14.3.3.zeta  17\n",
       "3              pp_X4E.BP1  32\n",
       "4         pp_X4E.BP1.pS65  14\n",
       "..                    ...  ..\n",
       "217     pp_p62.LCK.ligand  16\n",
       "218             pp_p70S6K  49\n",
       "219       pp_p70S6K.pT389  33\n",
       "220             pp_p90RSK  10\n",
       "221  pp_p90RSK.pT359.S363  26\n",
       "\n",
       "[222 rows x 2 columns]"
      ]
     },
     "execution_count": 117,
     "metadata": {},
     "output_type": "execute_result"
    }
   ],
   "source": [
    "pd_pp_outliers = pd.DataFrame(find_col(brca_variables_pp).items())\n",
    "pd_pp_outliers"
   ]
  },
  {
   "cell_type": "code",
   "execution_count": 118,
   "id": "efc013b9",
   "metadata": {
    "scrolled": false
   },
   "outputs": [
    {
     "data": {
      "text/plain": [
       "(10, 50]      162\n",
       "(0, 10]        34\n",
       "(50, 100]      25\n",
       "(100, 500]      1\n",
       "Name: 1, dtype: int64"
      ]
     },
     "execution_count": 118,
     "metadata": {},
     "output_type": "execute_result"
    }
   ],
   "source": [
    "bins = [0, 10, 50, 100, 500]\n",
    "pp_ol_counts = pd.cut(pd_pp_outliers.iloc[:,1], bins)\n",
    "pd.value_counts(pp_ol_counts)"
   ]
  },
  {
   "cell_type": "code",
   "execution_count": 133,
   "id": "94f35d33",
   "metadata": {
    "collapsed": true
   },
   "outputs": [
    {
     "data": {
      "image/png": "[encoded data removed]",
      "text/plain": [
       "<Figure size 432x288 with 1 Axes>"
      ]
     },
     "metadata": {
      "needs_background": "light"
     },
     "output_type": "display_data"
    }
   ],
   "source": [
    "plt.scatter(brca_variables_rs.index, brca_variables_rs['rs_HORMAD1'])\n",
    "plt.show()"
   ]
  },
  {
   "cell_type": "code",
   "execution_count": 141,
   "id": "ba4ec88f",
   "metadata": {
    "collapsed": true
   },
   "outputs": [
    {
     "data": {
      "text/plain": [
       "(array([549.,  37.,  18.,  15.,   4.,  19.,  16.,  10.,  27.,  10.]),\n",
       " array([ 0.        ,  1.20798112,  2.41596223,  3.62394335,  4.83192446,\n",
       "         6.03990558,  7.24788669,  8.45586781,  9.66384892, 10.87183004,\n",
       "        12.07981115]),\n",
       " <BarContainer object of 10 artists>)"
      ]
     },
     "execution_count": 141,
     "metadata": {},
     "output_type": "execute_result"
    },
    {
     "data": {
      "image/png": "[encoded data removed]",
      "text/plain": [
       "<Figure size 432x288 with 1 Axes>"
      ]
     },
     "metadata": {
      "needs_background": "light"
     },
     "output_type": "display_data"
    }
   ],
   "source": [
    "plt.hist(brca_variables_rs['rs_MAGEA3'])"
   ]
  },
  {
   "cell_type": "code",
   "execution_count": 140,
   "id": "768d4816",
   "metadata": {
    "collapsed": true
   },
   "outputs": [
    {
     "data": {
      "text/plain": [
       "<AxesSubplot:ylabel='Density'>"
      ]
     },
     "execution_count": 140,
     "metadata": {},
     "output_type": "execute_result"
    },
    {
     "data": {
      "image/png": "[encoded data removed]",
      "text/plain": [
       "<Figure size 432x288 with 1 Axes>"
      ]
     },
     "metadata": {
      "needs_background": "light"
     },
     "output_type": "display_data"
    }
   ],
   "source": [
    "brca_variables_rs['rs_MAGEA3'].plot(kind='density')"
   ]
  },
  {
   "cell_type": "code",
   "execution_count": 102,
   "id": "4d6515a2",
   "metadata": {},
   "outputs": [
    {
     "data": {
      "text/plain": [
       "array([[1.],\n",
       "       [1.],\n",
       "       [1.],\n",
       "       [1.],\n",
       "       [1.],\n",
       "       [1.],\n",
       "       [1.],\n",
       "       [1.],\n",
       "       [1.],\n",
       "       [1.],\n",
       "       [1.],\n",
       "       [1.],\n",
       "       [1.],\n",
       "       [1.],\n",
       "       [1.],\n",
       "       [1.],\n",
       "       [1.],\n",
       "       [1.],\n",
       "       [1.],\n",
       "       [1.],\n",
       "       [1.],\n",
       "       [0.],\n",
       "       [1.],\n",
       "       [1.],\n",
       "       [1.],\n",
       "       [1.],\n",
       "       [1.],\n",
       "       [1.],\n",
       "       [1.],\n",
       "       [1.],\n",
       "       [1.],\n",
       "       [1.],\n",
       "       [1.],\n",
       "       [1.],\n",
       "       [1.],\n",
       "       [1.],\n",
       "       [1.],\n",
       "       [1.],\n",
       "       [1.],\n",
       "       [1.],\n",
       "       [1.],\n",
       "       [1.],\n",
       "       [1.],\n",
       "       [1.],\n",
       "       [0.],\n",
       "       [0.],\n",
       "       [1.],\n",
       "       [1.],\n",
       "       [1.],\n",
       "       [1.],\n",
       "       [1.],\n",
       "       [1.],\n",
       "       [1.],\n",
       "       [1.],\n",
       "       [1.],\n",
       "       [1.],\n",
       "       [1.],\n",
       "       [1.],\n",
       "       [1.],\n",
       "       [1.],\n",
       "       [1.],\n",
       "       [1.],\n",
       "       [1.],\n",
       "       [1.],\n",
       "       [1.],\n",
       "       [1.],\n",
       "       [1.],\n",
       "       [1.],\n",
       "       [1.],\n",
       "       [1.],\n",
       "       [1.],\n",
       "       [1.],\n",
       "       [0.],\n",
       "       [1.],\n",
       "       [1.],\n",
       "       [1.],\n",
       "       [1.],\n",
       "       [1.],\n",
       "       [1.],\n",
       "       [1.],\n",
       "       [1.],\n",
       "       [1.],\n",
       "       [1.],\n",
       "       [1.],\n",
       "       [1.],\n",
       "       [1.],\n",
       "       [1.],\n",
       "       [1.],\n",
       "       [1.],\n",
       "       [1.],\n",
       "       [1.],\n",
       "       [1.],\n",
       "       [1.],\n",
       "       [1.],\n",
       "       [0.],\n",
       "       [1.],\n",
       "       [1.],\n",
       "       [1.],\n",
       "       [1.],\n",
       "       [1.],\n",
       "       [0.],\n",
       "       [1.],\n",
       "       [1.],\n",
       "       [1.],\n",
       "       [1.],\n",
       "       [1.],\n",
       "       [1.],\n",
       "       [1.],\n",
       "       [1.],\n",
       "       [1.],\n",
       "       [1.],\n",
       "       [1.],\n",
       "       [1.],\n",
       "       [0.],\n",
       "       [1.],\n",
       "       [1.],\n",
       "       [1.],\n",
       "       [1.],\n",
       "       [1.],\n",
       "       [1.],\n",
       "       [1.],\n",
       "       [1.],\n",
       "       [1.],\n",
       "       [1.],\n",
       "       [1.],\n",
       "       [1.],\n",
       "       [1.],\n",
       "       [1.],\n",
       "       [0.],\n",
       "       [1.],\n",
       "       [1.],\n",
       "       [1.],\n",
       "       [1.],\n",
       "       [1.],\n",
       "       [1.],\n",
       "       [1.],\n",
       "       [1.],\n",
       "       [1.],\n",
       "       [1.],\n",
       "       [0.],\n",
       "       [1.],\n",
       "       [1.],\n",
       "       [0.],\n",
       "       [1.],\n",
       "       [1.],\n",
       "       [1.],\n",
       "       [1.],\n",
       "       [1.],\n",
       "       [1.],\n",
       "       [1.],\n",
       "       [0.],\n",
       "       [1.],\n",
       "       [1.],\n",
       "       [1.],\n",
       "       [0.],\n",
       "       [1.],\n",
       "       [1.],\n",
       "       [1.],\n",
       "       [1.],\n",
       "       [1.],\n",
       "       [1.],\n",
       "       [1.],\n",
       "       [1.],\n",
       "       [1.],\n",
       "       [1.],\n",
       "       [1.],\n",
       "       [1.],\n",
       "       [1.],\n",
       "       [1.],\n",
       "       [1.],\n",
       "       [1.],\n",
       "       [1.],\n",
       "       [1.],\n",
       "       [1.],\n",
       "       [1.],\n",
       "       [1.],\n",
       "       [1.],\n",
       "       [1.],\n",
       "       [1.],\n",
       "       [1.],\n",
       "       [0.],\n",
       "       [1.],\n",
       "       [1.],\n",
       "       [1.],\n",
       "       [1.],\n",
       "       [1.],\n",
       "       [1.],\n",
       "       [1.],\n",
       "       [1.],\n",
       "       [1.],\n",
       "       [0.],\n",
       "       [0.],\n",
       "       [1.],\n",
       "       [1.],\n",
       "       [1.],\n",
       "       [1.],\n",
       "       [1.],\n",
       "       [1.],\n",
       "       [1.],\n",
       "       [0.],\n",
       "       [1.],\n",
       "       [1.],\n",
       "       [1.],\n",
       "       [0.],\n",
       "       [1.],\n",
       "       [1.],\n",
       "       [1.],\n",
       "       [1.],\n",
       "       [1.],\n",
       "       [1.],\n",
       "       [1.],\n",
       "       [1.],\n",
       "       [1.],\n",
       "       [1.],\n",
       "       [1.],\n",
       "       [1.],\n",
       "       [1.],\n",
       "       [1.],\n",
       "       [1.],\n",
       "       [1.],\n",
       "       [1.],\n",
       "       [1.],\n",
       "       [1.],\n",
       "       [1.],\n",
       "       [1.],\n",
       "       [1.],\n",
       "       [1.],\n",
       "       [1.],\n",
       "       [1.],\n",
       "       [1.],\n",
       "       [1.],\n",
       "       [1.],\n",
       "       [1.],\n",
       "       [1.],\n",
       "       [0.],\n",
       "       [1.],\n",
       "       [1.],\n",
       "       [1.],\n",
       "       [1.],\n",
       "       [1.],\n",
       "       [1.],\n",
       "       [1.],\n",
       "       [1.],\n",
       "       [1.],\n",
       "       [1.],\n",
       "       [1.],\n",
       "       [0.],\n",
       "       [1.],\n",
       "       [1.],\n",
       "       [1.],\n",
       "       [1.],\n",
       "       [1.],\n",
       "       [1.],\n",
       "       [1.],\n",
       "       [1.],\n",
       "       [1.],\n",
       "       [1.],\n",
       "       [1.],\n",
       "       [1.],\n",
       "       [1.],\n",
       "       [1.],\n",
       "       [1.],\n",
       "       [1.],\n",
       "       [1.],\n",
       "       [1.],\n",
       "       [1.],\n",
       "       [1.],\n",
       "       [1.],\n",
       "       [1.],\n",
       "       [1.],\n",
       "       [1.],\n",
       "       [1.],\n",
       "       [1.],\n",
       "       [1.],\n",
       "       [1.],\n",
       "       [1.],\n",
       "       [1.],\n",
       "       [1.],\n",
       "       [1.],\n",
       "       [1.],\n",
       "       [1.],\n",
       "       [1.],\n",
       "       [1.],\n",
       "       [1.],\n",
       "       [1.],\n",
       "       [1.],\n",
       "       [1.],\n",
       "       [1.],\n",
       "       [1.],\n",
       "       [1.],\n",
       "       [1.],\n",
       "       [1.],\n",
       "       [1.],\n",
       "       [1.],\n",
       "       [1.],\n",
       "       [1.],\n",
       "       [1.],\n",
       "       [1.],\n",
       "       [1.],\n",
       "       [1.],\n",
       "       [1.],\n",
       "       [1.],\n",
       "       [1.],\n",
       "       [1.],\n",
       "       [1.],\n",
       "       [1.],\n",
       "       [1.],\n",
       "       [1.],\n",
       "       [1.],\n",
       "       [1.],\n",
       "       [1.],\n",
       "       [1.],\n",
       "       [1.],\n",
       "       [1.],\n",
       "       [1.],\n",
       "       [1.],\n",
       "       [1.],\n",
       "       [1.],\n",
       "       [1.],\n",
       "       [1.],\n",
       "       [1.],\n",
       "       [0.],\n",
       "       [1.],\n",
       "       [1.],\n",
       "       [1.],\n",
       "       [1.],\n",
       "       [1.],\n",
       "       [1.],\n",
       "       [1.],\n",
       "       [1.],\n",
       "       [1.],\n",
       "       [1.],\n",
       "       [1.],\n",
       "       [1.],\n",
       "       [1.],\n",
       "       [1.],\n",
       "       [1.],\n",
       "       [1.],\n",
       "       [1.],\n",
       "       [1.],\n",
       "       [1.],\n",
       "       [0.],\n",
       "       [1.],\n",
       "       [1.],\n",
       "       [1.],\n",
       "       [1.],\n",
       "       [1.],\n",
       "       [1.],\n",
       "       [1.],\n",
       "       [1.],\n",
       "       [1.],\n",
       "       [1.],\n",
       "       [1.],\n",
       "       [1.],\n",
       "       [1.],\n",
       "       [1.],\n",
       "       [1.],\n",
       "       [1.],\n",
       "       [1.],\n",
       "       [1.],\n",
       "       [1.],\n",
       "       [1.],\n",
       "       [1.],\n",
       "       [1.],\n",
       "       [0.],\n",
       "       [1.],\n",
       "       [1.],\n",
       "       [1.],\n",
       "       [1.],\n",
       "       [1.],\n",
       "       [1.],\n",
       "       [1.],\n",
       "       [1.],\n",
       "       [1.],\n",
       "       [1.],\n",
       "       [1.],\n",
       "       [1.],\n",
       "       [1.],\n",
       "       [1.],\n",
       "       [1.],\n",
       "       [1.],\n",
       "       [1.],\n",
       "       [1.],\n",
       "       [1.],\n",
       "       [1.],\n",
       "       [1.],\n",
       "       [1.],\n",
       "       [1.],\n",
       "       [1.],\n",
       "       [1.],\n",
       "       [1.],\n",
       "       [1.],\n",
       "       [1.],\n",
       "       [1.],\n",
       "       [1.],\n",
       "       [1.],\n",
       "       [1.],\n",
       "       [1.],\n",
       "       [1.],\n",
       "       [1.],\n",
       "       [1.],\n",
       "       [1.],\n",
       "       [1.],\n",
       "       [1.],\n",
       "       [1.],\n",
       "       [1.],\n",
       "       [1.],\n",
       "       [1.],\n",
       "       [1.],\n",
       "       [1.],\n",
       "       [1.],\n",
       "       [1.],\n",
       "       [1.],\n",
       "       [1.],\n",
       "       [1.],\n",
       "       [1.],\n",
       "       [1.],\n",
       "       [1.],\n",
       "       [1.],\n",
       "       [1.],\n",
       "       [1.],\n",
       "       [0.],\n",
       "       [1.],\n",
       "       [1.],\n",
       "       [1.],\n",
       "       [1.],\n",
       "       [1.],\n",
       "       [0.],\n",
       "       [1.],\n",
       "       [1.],\n",
       "       [1.],\n",
       "       [1.],\n",
       "       [1.],\n",
       "       [1.],\n",
       "       [1.],\n",
       "       [1.],\n",
       "       [1.],\n",
       "       [1.],\n",
       "       [1.],\n",
       "       [1.],\n",
       "       [1.],\n",
       "       [0.],\n",
       "       [1.],\n",
       "       [1.],\n",
       "       [1.],\n",
       "       [1.],\n",
       "       [0.],\n",
       "       [0.],\n",
       "       [1.],\n",
       "       [1.],\n",
       "       [1.],\n",
       "       [1.],\n",
       "       [1.],\n",
       "       [1.],\n",
       "       [1.],\n",
       "       [1.],\n",
       "       [1.],\n",
       "       [0.],\n",
       "       [1.],\n",
       "       [1.],\n",
       "       [1.],\n",
       "       [0.],\n",
       "       [1.],\n",
       "       [1.],\n",
       "       [1.],\n",
       "       [1.],\n",
       "       [1.],\n",
       "       [1.],\n",
       "       [1.],\n",
       "       [1.],\n",
       "       [1.],\n",
       "       [1.],\n",
       "       [1.],\n",
       "       [1.],\n",
       "       [1.],\n",
       "       [1.],\n",
       "       [1.],\n",
       "       [1.],\n",
       "       [1.],\n",
       "       [1.],\n",
       "       [1.],\n",
       "       [1.],\n",
       "       [1.],\n",
       "       [1.],\n",
       "       [1.],\n",
       "       [1.],\n",
       "       [1.],\n",
       "       [0.],\n",
       "       [1.],\n",
       "       [1.],\n",
       "       [1.],\n",
       "       [0.],\n",
       "       [1.],\n",
       "       [1.],\n",
       "       [0.],\n",
       "       [1.],\n",
       "       [1.],\n",
       "       [1.],\n",
       "       [1.],\n",
       "       [1.],\n",
       "       [1.],\n",
       "       [1.],\n",
       "       [1.],\n",
       "       [1.],\n",
       "       [1.],\n",
       "       [1.],\n",
       "       [1.],\n",
       "       [1.],\n",
       "       [1.],\n",
       "       [0.],\n",
       "       [1.],\n",
       "       [1.],\n",
       "       [1.],\n",
       "       [1.],\n",
       "       [1.],\n",
       "       [1.],\n",
       "       [1.],\n",
       "       [1.],\n",
       "       [1.],\n",
       "       [1.],\n",
       "       [1.],\n",
       "       [1.],\n",
       "       [1.],\n",
       "       [1.],\n",
       "       [1.],\n",
       "       [1.],\n",
       "       [1.],\n",
       "       [1.],\n",
       "       [1.],\n",
       "       [1.],\n",
       "       [1.],\n",
       "       [1.],\n",
       "       [1.],\n",
       "       [1.],\n",
       "       [1.],\n",
       "       [1.],\n",
       "       [1.],\n",
       "       [1.],\n",
       "       [1.],\n",
       "       [1.],\n",
       "       [1.],\n",
       "       [1.],\n",
       "       [1.],\n",
       "       [1.],\n",
       "       [1.],\n",
       "       [1.],\n",
       "       [1.],\n",
       "       [1.],\n",
       "       [1.],\n",
       "       [1.],\n",
       "       [1.],\n",
       "       [1.],\n",
       "       [1.],\n",
       "       [1.],\n",
       "       [1.],\n",
       "       [1.],\n",
       "       [1.],\n",
       "       [1.],\n",
       "       [1.],\n",
       "       [1.],\n",
       "       [1.],\n",
       "       [1.],\n",
       "       [1.],\n",
       "       [1.],\n",
       "       [0.],\n",
       "       [1.],\n",
       "       [1.],\n",
       "       [1.],\n",
       "       [1.],\n",
       "       [1.],\n",
       "       [1.],\n",
       "       [1.],\n",
       "       [1.],\n",
       "       [1.],\n",
       "       [1.],\n",
       "       [1.],\n",
       "       [1.],\n",
       "       [1.],\n",
       "       [1.],\n",
       "       [1.],\n",
       "       [1.],\n",
       "       [1.],\n",
       "       [1.],\n",
       "       [0.],\n",
       "       [1.],\n",
       "       [1.],\n",
       "       [0.],\n",
       "       [1.],\n",
       "       [1.],\n",
       "       [1.],\n",
       "       [1.],\n",
       "       [1.],\n",
       "       [1.],\n",
       "       [1.],\n",
       "       [1.],\n",
       "       [1.],\n",
       "       [1.],\n",
       "       [1.],\n",
       "       [1.],\n",
       "       [1.],\n",
       "       [1.],\n",
       "       [1.],\n",
       "       [1.],\n",
       "       [1.],\n",
       "       [1.],\n",
       "       [0.],\n",
       "       [1.],\n",
       "       [1.],\n",
       "       [1.],\n",
       "       [1.],\n",
       "       [1.],\n",
       "       [1.],\n",
       "       [1.],\n",
       "       [1.],\n",
       "       [1.],\n",
       "       [1.],\n",
       "       [1.],\n",
       "       [1.],\n",
       "       [1.],\n",
       "       [1.],\n",
       "       [1.],\n",
       "       [1.],\n",
       "       [1.],\n",
       "       [0.],\n",
       "       [1.],\n",
       "       [1.],\n",
       "       [1.],\n",
       "       [1.],\n",
       "       [1.],\n",
       "       [1.],\n",
       "       [1.],\n",
       "       [1.],\n",
       "       [1.],\n",
       "       [1.],\n",
       "       [1.],\n",
       "       [1.],\n",
       "       [1.],\n",
       "       [1.],\n",
       "       [1.],\n",
       "       [1.],\n",
       "       [1.],\n",
       "       [1.],\n",
       "       [0.],\n",
       "       [1.],\n",
       "       [1.],\n",
       "       [1.],\n",
       "       [1.],\n",
       "       [1.],\n",
       "       [1.],\n",
       "       [1.],\n",
       "       [1.],\n",
       "       [1.],\n",
       "       [1.],\n",
       "       [1.],\n",
       "       [1.],\n",
       "       [1.],\n",
       "       [1.],\n",
       "       [1.],\n",
       "       [1.],\n",
       "       [1.],\n",
       "       [1.],\n",
       "       [1.],\n",
       "       [1.],\n",
       "       [1.],\n",
       "       [1.],\n",
       "       [1.],\n",
       "       [1.],\n",
       "       [1.],\n",
       "       [1.],\n",
       "       [1.],\n",
       "       [1.],\n",
       "       [1.],\n",
       "       [1.],\n",
       "       [1.],\n",
       "       [1.],\n",
       "       [1.],\n",
       "       [1.],\n",
       "       [1.],\n",
       "       [1.],\n",
       "       [1.],\n",
       "       [1.],\n",
       "       [1.],\n",
       "       [1.],\n",
       "       [1.],\n",
       "       [1.],\n",
       "       [1.],\n",
       "       [1.],\n",
       "       [1.],\n",
       "       [1.],\n",
       "       [1.],\n",
       "       [1.],\n",
       "       [1.],\n",
       "       [1.],\n",
       "       [1.],\n",
       "       [1.],\n",
       "       [1.],\n",
       "       [1.],\n",
       "       [1.],\n",
       "       [1.],\n",
       "       [1.],\n",
       "       [1.],\n",
       "       [1.],\n",
       "       [1.],\n",
       "       [1.],\n",
       "       [1.]])"
      ]
     },
     "execution_count": 102,
     "metadata": {},
     "output_type": "execute_result"
    }
   ],
   "source": [
    "from sklearn import preprocessing\n",
    "scaler = preprocessing.Normalizer()\n",
    "scaled_df = scaler.fit_transform(brca_variables_rs['rs_MYBPC1'].values.reshape(-1,1))\n",
    "scaled_df"
   ]
  },
  {
   "cell_type": "code",
   "execution_count": 86,
   "id": "01a6825c",
   "metadata": {},
   "outputs": [
    {
     "data": {
      "image/png": "[encoded data removed]",
      "text/plain": [
       "<Figure size 432x288 with 1 Axes>"
      ]
     },
     "metadata": {
      "needs_background": "light"
     },
     "output_type": "display_data"
    }
   ],
   "source": [
    "ax = sns.boxplot(data=brca_variables_rs_outliers, orient=\"h\", palette=\"Set2\")"
   ]
  },
  {
   "cell_type": "code",
   "execution_count": 73,
   "id": "a4f652cb",
   "metadata": {},
   "outputs": [
    {
     "data": {
      "text/plain": [
       "705"
      ]
     },
     "execution_count": 73,
     "metadata": {},
     "output_type": "execute_result"
    }
   ],
   "source": [
    "len(brca_variables_pp)"
   ]
  },
  {
   "cell_type": "code",
   "execution_count": 74,
   "id": "efd04d55",
   "metadata": {
    "scrolled": true
   },
   "outputs": [
    {
     "data": {
      "text/plain": [
       "222"
      ]
     },
     "execution_count": 74,
     "metadata": {},
     "output_type": "execute_result"
    }
   ],
   "source": [
    "len(find_col(brca_variables_pp))"
   ]
  }
 ],
 "metadata": {
  "kernelspec": {
   "display_name": "Python 3 (ipykernel)",
   "language": "python",
   "name": "python3"
  },
  "language_info": {
   "codemirror_mode": {
    "name": "ipython",
    "version": 3
   },
   "file_extension": ".py",
   "mimetype": "text/x-python",
   "name": "python",
   "nbconvert_exporter": "python",
   "pygments_lexer": "ipython3",
   "version": "3.9.7"
  }
 },
 "nbformat": 4,
 "nbformat_minor": 5
}
