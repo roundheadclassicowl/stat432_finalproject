{
 "cells": [
  {
   "cell_type": "markdown",
   "id": "e1ca07c7",
   "metadata": {},
   "source": [
    "# Import Data and Load/Preprocess the Outcome Variables"
   ]
  },
  {
   "cell_type": "code",
   "execution_count": 1,
   "id": "c0a8d5ad",
   "metadata": {},
   "outputs": [],
   "source": [
    "import pandas as pd\n",
    "import numpy as np"
   ]
  },
  {
   "cell_type": "code",
   "execution_count": 2,
   "id": "658a2121",
   "metadata": {},
   "outputs": [
    {
     "name": "stdout",
     "output_type": "stream",
     "text": [
      "<class 'pandas.core.frame.DataFrame'>\n",
      "RangeIndex: 705 entries, 0 to 704\n",
      "Columns: 1941 entries, rs_CLEC3A to histological.type\n",
      "dtypes: float64(827), int64(1110), object(4)\n",
      "memory usage: 10.4+ MB\n"
     ]
    }
   ],
   "source": [
    "brca = pd.read_csv('brca_data_w_subtypes.csv')\n",
    "brca.info()"
   ]
  },
  {
   "cell_type": "code",
   "execution_count": 3,
   "id": "5511a21c",
   "metadata": {},
   "outputs": [
    {
     "name": "stdout",
     "output_type": "stream",
     "text": [
      "<class 'pandas.core.frame.DataFrame'>\n",
      "RangeIndex: 705 entries, 0 to 704\n",
      "Columns: 1941 entries, rs_CLEC3A to histological.type\n",
      "dtypes: float64(827), int64(1110), object(4)\n",
      "memory usage: 10.4+ MB\n"
     ]
    }
   ],
   "source": [
    "PR_Status = brca['PR.Status']\n",
    "ER_Status = brca['ER.Status'] \n",
    "HER2 = brca['HER2.Final.Status']\n",
    "HIST = brca['histological.type']\n",
    "\n",
    "brca_variables = brca.drop(['vital.status', 'PR.Status', 'ER.Status', 'HER2.Final.Status', 'histological.type'], axis=1)\n",
    "brca.info()"
   ]
  },
  {
   "cell_type": "code",
   "execution_count": 27,
   "id": "22845e56",
   "metadata": {},
   "outputs": [
    {
     "data": {
      "text/plain": [
       "Series([], dtype: object)"
      ]
     },
     "execution_count": 27,
     "metadata": {},
     "output_type": "execute_result"
    }
   ],
   "source": [
    "brca_variables.dtypes[~((brca_variables.dtypes == 'float64') | (brca_variables.dtypes == 'int64'))]"
   ]
  },
  {
   "cell_type": "markdown",
   "id": "016043af",
   "metadata": {},
   "source": [
    "The data contains 705 observations, 1936 variables (860 copy number variations, 249 mutations, 604 gene expressions and 223 protein levels)"
   ]
  },
  {
   "cell_type": "code",
   "execution_count": 4,
   "id": "6254b72d",
   "metadata": {},
   "outputs": [],
   "source": [
    "def discretize(x):\n",
    "    if x == 'Positive' or x == 'infiltrating lobular carcinoma':\n",
    "        return 1\n",
    "    elif x == 'Negative' or x == 'infiltrating ductal carcinoma':\n",
    "        return 0\n",
    "    else:\n",
    "        return np.nan"
   ]
  },
  {
   "cell_type": "code",
   "execution_count": 5,
   "id": "b4a09875",
   "metadata": {},
   "outputs": [],
   "source": [
    "PR_Status = PR_Status.apply(lambda x : discretize(x))\n",
    "ER_Status = ER_Status.apply(lambda x : discretize(x))\n",
    "HER2 = HER2.apply(lambda x : discretize(x))\n",
    "HIST = HIST.apply(lambda x : discretize(x))"
   ]
  },
  {
   "cell_type": "markdown",
   "id": "13c08281",
   "metadata": {},
   "source": [
    "# Summary Statistics and Data Preprocessing"
   ]
  },
  {
   "cell_type": "code",
   "execution_count": 6,
   "id": "84759cc8",
   "metadata": {},
   "outputs": [],
   "source": [
    "import seaborn as sns\n",
    "import matplotlib.pyplot as plt"
   ]
  },
  {
   "cell_type": "code",
   "execution_count": 13,
   "id": "137f952b",
   "metadata": {},
   "outputs": [
    {
     "data": {
      "text/plain": [
       "Positive                       353\n",
       "Negative                       193\n",
       "Not Performed                   28\n",
       "Performed but Not Available      5\n",
       "Indeterminate                    4\n",
       "Name: PR.Status, dtype: int64"
      ]
     },
     "execution_count": 13,
     "metadata": {},
     "output_type": "execute_result"
    }
   ],
   "source": [
    "brca['PR.Status'].value_counts()"
   ]
  },
  {
   "cell_type": "code",
   "execution_count": 8,
   "id": "fe9131a9",
   "metadata": {},
   "outputs": [
    {
     "data": {
      "text/plain": [
       "1.0    353\n",
       "0.0    193\n",
       "Name: PR.Status, dtype: int64"
      ]
     },
     "execution_count": 8,
     "metadata": {},
     "output_type": "execute_result"
    }
   ],
   "source": [
    "PR_Status.value_counts()"
   ]
  },
  {
   "cell_type": "code",
   "execution_count": 14,
   "id": "3c61e2d0",
   "metadata": {},
   "outputs": [
    {
     "data": {
      "text/plain": [
       "Positive                       414\n",
       "Negative                       135\n",
       "Not Performed                   27\n",
       "Performed but Not Available      5\n",
       "Indeterminate                    2\n",
       "Name: ER.Status, dtype: int64"
      ]
     },
     "execution_count": 14,
     "metadata": {},
     "output_type": "execute_result"
    }
   ],
   "source": [
    "brca['ER.Status'].value_counts()"
   ]
  },
  {
   "cell_type": "code",
   "execution_count": 9,
   "id": "22643135",
   "metadata": {},
   "outputs": [
    {
     "data": {
      "text/plain": [
       "1.0    414\n",
       "0.0    135\n",
       "Name: ER.Status, dtype: int64"
      ]
     },
     "execution_count": 9,
     "metadata": {},
     "output_type": "execute_result"
    }
   ],
   "source": [
    "ER_Status.value_counts()"
   ]
  },
  {
   "cell_type": "code",
   "execution_count": 15,
   "id": "8f4d56aa",
   "metadata": {},
   "outputs": [
    {
     "data": {
      "text/plain": [
       "Negative         457\n",
       "Positive          86\n",
       "Equivocal          9\n",
       "Not Available      8\n",
       "Name: HER2.Final.Status, dtype: int64"
      ]
     },
     "execution_count": 15,
     "metadata": {},
     "output_type": "execute_result"
    }
   ],
   "source": [
    "brca['HER2.Final.Status'].value_counts()"
   ]
  },
  {
   "cell_type": "code",
   "execution_count": 10,
   "id": "5280b9bf",
   "metadata": {},
   "outputs": [
    {
     "data": {
      "text/plain": [
       "0.0    457\n",
       "1.0     86\n",
       "Name: HER2.Final.Status, dtype: int64"
      ]
     },
     "execution_count": 10,
     "metadata": {},
     "output_type": "execute_result"
    }
   ],
   "source": [
    "HER2.value_counts()"
   ]
  },
  {
   "cell_type": "code",
   "execution_count": 16,
   "id": "30fd186d",
   "metadata": {},
   "outputs": [
    {
     "data": {
      "text/plain": [
       "infiltrating ductal carcinoma     574\n",
       "infiltrating lobular carcinoma    131\n",
       "Name: histological.type, dtype: int64"
      ]
     },
     "execution_count": 16,
     "metadata": {},
     "output_type": "execute_result"
    }
   ],
   "source": [
    "brca['histological.type'].value_counts()"
   ]
  },
  {
   "cell_type": "code",
   "execution_count": 11,
   "id": "e8fe1780",
   "metadata": {},
   "outputs": [
    {
     "data": {
      "text/plain": [
       "0    574\n",
       "1    131\n",
       "Name: histological.type, dtype: int64"
      ]
     },
     "execution_count": 11,
     "metadata": {},
     "output_type": "execute_result"
    }
   ],
   "source": [
    "HIST.value_counts()"
   ]
  },
  {
   "cell_type": "markdown",
   "id": "6ca894cd",
   "metadata": {},
   "source": [
    "# Modeling `PR.Status`"
   ]
  },
  {
   "cell_type": "markdown",
   "id": "a3bed7ff",
   "metadata": {},
   "source": [
    "## SVM w/ cross-validation"
   ]
  },
  {
   "cell_type": "code",
   "execution_count": 51,
   "id": "6b12fdc1",
   "metadata": {},
   "outputs": [],
   "source": [
    "from sklearn import linear_model, svm\n",
    "from sklearn.model_selection import cross_val_score"
   ]
  },
  {
   "cell_type": "code",
   "execution_count": 61,
   "id": "ec6efd7c",
   "metadata": {},
   "outputs": [],
   "source": [
    "reg = svm.SVC(kernel='linear', C=1, random_state=42)\n",
    "\n",
    "subset_brca_variables = brca_variables[(PR_Status == 0) | (PR_Status == 1)]\n",
    "subset_PR_Status = PR_Status[(PR_Status == 0) | (PR_Status == 1)]"
   ]
  },
  {
   "cell_type": "code",
   "execution_count": 64,
   "id": "e9c397cb",
   "metadata": {},
   "outputs": [
    {
     "data": {
      "text/plain": [
       "array([0.8       , 0.8440367 , 0.78899083, 0.80733945, 0.81651376])"
      ]
     },
     "execution_count": 64,
     "metadata": {},
     "output_type": "execute_result"
    }
   ],
   "source": [
    "scores = cross_val_score(reg, subset_brca_variables, subset_PR_Status, cv=5, scoring='accuracy')\n",
    "scores"
   ]
  },
  {
   "cell_type": "code",
   "execution_count": 65,
   "id": "d289ebb9",
   "metadata": {},
   "outputs": [
    {
     "name": "stdout",
     "output_type": "stream",
     "text": [
      "0.81 accuracy with a standard deviation of 0.02\n"
     ]
    }
   ],
   "source": [
    "print(\"%0.2f accuracy with a standard deviation of %0.2f\" % (scores.mean(), scores.std()))"
   ]
  },
  {
   "cell_type": "markdown",
   "id": "956cf820",
   "metadata": {},
   "source": [
    "## Logistic Regression using SGD "
   ]
  },
  {
   "cell_type": "code",
   "execution_count": 106,
   "id": "8c05cb21",
   "metadata": {},
   "outputs": [],
   "source": [
    "lr = linear_model.SGDClassifier(random_state=42, loss='log')"
   ]
  },
  {
   "cell_type": "code",
   "execution_count": 109,
   "id": "1a0c446a",
   "metadata": {},
   "outputs": [
    {
     "data": {
      "text/plain": [
       "array([0.84545455, 0.88990826, 0.77981651, 0.78899083, 0.86238532])"
      ]
     },
     "execution_count": 109,
     "metadata": {},
     "output_type": "execute_result"
    }
   ],
   "source": [
    "scores2 = cross_val_score(lr, subset_brca_variables, subset_PR_Status, cv=5, scoring='accuracy')\n",
    "scores2"
   ]
  },
  {
   "cell_type": "code",
   "execution_count": 110,
   "id": "f90070e7",
   "metadata": {},
   "outputs": [
    {
     "name": "stdout",
     "output_type": "stream",
     "text": [
      "0.83 accuracy with a standard deviation of 0.04\n"
     ]
    }
   ],
   "source": [
    "print(\"%0.2f accuracy with a standard deviation of %0.2f\" % (scores2.mean(), scores2.std()))"
   ]
  },
  {
   "cell_type": "markdown",
   "id": "3ed1767a",
   "metadata": {},
   "source": [
    "# Modeling `histological.type`"
   ]
  },
  {
   "cell_type": "code",
   "execution_count": null,
   "id": "9e9bbf6c",
   "metadata": {},
   "outputs": [],
   "source": []
  },
  {
   "cell_type": "markdown",
   "id": "f6350707",
   "metadata": {},
   "source": [
    "# Variable Selection for All Outcomes"
   ]
  },
  {
   "cell_type": "code",
   "execution_count": null,
   "id": "34a36c67",
   "metadata": {},
   "outputs": [],
   "source": []
  }
 ],
 "metadata": {
  "kernelspec": {
   "display_name": "Python 3",
   "language": "python",
   "name": "python3"
  },
  "language_info": {
   "codemirror_mode": {
    "name": "ipython",
    "version": 3
   },
   "file_extension": ".py",
   "mimetype": "text/x-python",
   "name": "python",
   "nbconvert_exporter": "python",
   "pygments_lexer": "ipython3",
   "version": "3.8.8"
  }
 },
 "nbformat": 4,
 "nbformat_minor": 5
}
