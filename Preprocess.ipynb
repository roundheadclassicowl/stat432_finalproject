{
 "cells": [
  {
   "cell_type": "markdown",
   "id": "e1ca07c7",
   "metadata": {},
   "source": [
    "# Import Data and Load/Preprocess the Outcome Variables"
   ]
  },
  {
   "cell_type": "code",
   "execution_count": 1,
   "id": "c0a8d5ad",
   "metadata": {},
   "outputs": [],
   "source": [
    "import pandas as pd\n",
    "import numpy as np"
   ]
  },
  {
   "cell_type": "code",
   "execution_count": 2,
   "id": "658a2121",
   "metadata": {},
   "outputs": [
    {
     "name": "stdout",
     "output_type": "stream",
     "text": [
      "<class 'pandas.core.frame.DataFrame'>\n",
      "RangeIndex: 705 entries, 0 to 704\n",
      "Columns: 1941 entries, rs_CLEC3A to histological.type\n",
      "dtypes: float64(827), int64(1110), object(4)\n",
      "memory usage: 10.4+ MB\n"
     ]
    }
   ],
   "source": [
    "brca = pd.read_csv('brca_data_w_subtypes.csv')\n",
    "brca.info()"
   ]
  },
  {
   "cell_type": "code",
   "execution_count": 3,
   "id": "5511a21c",
   "metadata": {},
   "outputs": [
    {
     "name": "stdout",
     "output_type": "stream",
     "text": [
      "<class 'pandas.core.frame.DataFrame'>\n",
      "RangeIndex: 705 entries, 0 to 704\n",
      "Columns: 1941 entries, rs_CLEC3A to histological.type\n",
      "dtypes: float64(827), int64(1110), object(4)\n",
      "memory usage: 10.4+ MB\n"
     ]
    }
   ],
   "source": [
    "PR_Status = brca['PR.Status']\n",
    "ER_Status = brca['ER.Status'] \n",
    "HER2 = brca['HER2.Final.Status']\n",
    "HIST = brca['histological.type']\n",
    "\n",
    "brca_variables = brca.drop(['vital.status', 'PR.Status', 'ER.Status', 'HER2.Final.Status', 'histological.type'], axis=1)\n",
    "brca.info()"
   ]
  },
  {
   "cell_type": "code",
   "execution_count": 4,
   "id": "22845e56",
   "metadata": {},
   "outputs": [
    {
     "data": {
      "text/plain": [
       "Series([], dtype: object)"
      ]
     },
     "execution_count": 4,
     "metadata": {},
     "output_type": "execute_result"
    }
   ],
   "source": [
    "brca_variables.dtypes[~((brca_variables.dtypes == 'float64') | (brca_variables.dtypes == 'int64'))]"
   ]
  },
  {
   "cell_type": "markdown",
   "id": "016043af",
   "metadata": {},
   "source": [
    "The data contains 705 observations, 1936 variables (860 copy number variations, 249 mutations, 604 gene expressions and 223 protein levels)"
   ]
  },
  {
   "cell_type": "code",
   "execution_count": 5,
   "id": "6254b72d",
   "metadata": {},
   "outputs": [],
   "source": [
    "def discretize(x):\n",
    "    if x == 'Positive' or x == 'infiltrating lobular carcinoma':\n",
    "        return 1\n",
    "    elif x == 'Negative' or x == 'infiltrating ductal carcinoma':\n",
    "        return 0\n",
    "    else:\n",
    "        return np.nan"
   ]
  },
  {
   "cell_type": "code",
   "execution_count": 6,
   "id": "b4a09875",
   "metadata": {},
   "outputs": [],
   "source": [
    "PR_Status = PR_Status.apply(lambda x : discretize(x))\n",
    "ER_Status = ER_Status.apply(lambda x : discretize(x))\n",
    "HER2 = HER2.apply(lambda x : discretize(x))\n",
    "HIST = HIST.apply(lambda x : discretize(x))"
   ]
  },
  {
   "cell_type": "markdown",
   "id": "13c08281",
   "metadata": {},
   "source": [
    "# Summary Statistics and Data Preprocessing"
   ]
  },
  {
   "cell_type": "code",
   "execution_count": 7,
   "id": "84759cc8",
   "metadata": {},
   "outputs": [],
   "source": [
    "import seaborn as sns\n",
    "import matplotlib.pyplot as plt"
   ]
  },
  {
   "cell_type": "code",
   "execution_count": 8,
   "id": "137f952b",
   "metadata": {},
   "outputs": [
    {
     "data": {
      "text/plain": [
       "Positive                       353\n",
       "Negative                       193\n",
       "Not Performed                   28\n",
       "Performed but Not Available      5\n",
       "Indeterminate                    4\n",
       "Name: PR.Status, dtype: int64"
      ]
     },
     "execution_count": 8,
     "metadata": {},
     "output_type": "execute_result"
    }
   ],
   "source": [
    "brca['PR.Status'].value_counts()"
   ]
  },
  {
   "cell_type": "code",
   "execution_count": 9,
   "id": "fe9131a9",
   "metadata": {},
   "outputs": [
    {
     "data": {
      "text/plain": [
       "1.0    353\n",
       "0.0    193\n",
       "Name: PR.Status, dtype: int64"
      ]
     },
     "execution_count": 9,
     "metadata": {},
     "output_type": "execute_result"
    }
   ],
   "source": [
    "PR_Status.value_counts()"
   ]
  },
  {
   "cell_type": "code",
   "execution_count": 10,
   "id": "3c61e2d0",
   "metadata": {},
   "outputs": [
    {
     "data": {
      "text/plain": [
       "Positive                       414\n",
       "Negative                       135\n",
       "Not Performed                   27\n",
       "Performed but Not Available      5\n",
       "Indeterminate                    2\n",
       "Name: ER.Status, dtype: int64"
      ]
     },
     "execution_count": 10,
     "metadata": {},
     "output_type": "execute_result"
    }
   ],
   "source": [
    "brca['ER.Status'].value_counts()"
   ]
  },
  {
   "cell_type": "code",
   "execution_count": 11,
   "id": "22643135",
   "metadata": {},
   "outputs": [
    {
     "data": {
      "text/plain": [
       "1.0    414\n",
       "0.0    135\n",
       "Name: ER.Status, dtype: int64"
      ]
     },
     "execution_count": 11,
     "metadata": {},
     "output_type": "execute_result"
    }
   ],
   "source": [
    "ER_Status.value_counts()"
   ]
  },
  {
   "cell_type": "code",
   "execution_count": 12,
   "id": "8f4d56aa",
   "metadata": {},
   "outputs": [
    {
     "data": {
      "text/plain": [
       "Negative         457\n",
       "Positive          86\n",
       "Equivocal          9\n",
       "Not Available      8\n",
       "Name: HER2.Final.Status, dtype: int64"
      ]
     },
     "execution_count": 12,
     "metadata": {},
     "output_type": "execute_result"
    }
   ],
   "source": [
    "brca['HER2.Final.Status'].value_counts()"
   ]
  },
  {
   "cell_type": "code",
   "execution_count": 13,
   "id": "5280b9bf",
   "metadata": {},
   "outputs": [
    {
     "data": {
      "text/plain": [
       "0.0    457\n",
       "1.0     86\n",
       "Name: HER2.Final.Status, dtype: int64"
      ]
     },
     "execution_count": 13,
     "metadata": {},
     "output_type": "execute_result"
    }
   ],
   "source": [
    "HER2.value_counts()"
   ]
  },
  {
   "cell_type": "code",
   "execution_count": 14,
   "id": "30fd186d",
   "metadata": {},
   "outputs": [
    {
     "data": {
      "text/plain": [
       "infiltrating ductal carcinoma     574\n",
       "infiltrating lobular carcinoma    131\n",
       "Name: histological.type, dtype: int64"
      ]
     },
     "execution_count": 14,
     "metadata": {},
     "output_type": "execute_result"
    }
   ],
   "source": [
    "brca['histological.type'].value_counts()"
   ]
  },
  {
   "cell_type": "code",
   "execution_count": 15,
   "id": "e8fe1780",
   "metadata": {},
   "outputs": [
    {
     "data": {
      "text/plain": [
       "0    574\n",
       "1    131\n",
       "Name: histological.type, dtype: int64"
      ]
     },
     "execution_count": 15,
     "metadata": {},
     "output_type": "execute_result"
    }
   ],
   "source": [
    "HIST.value_counts()"
   ]
  },
  {
   "cell_type": "markdown",
   "id": "6ca894cd",
   "metadata": {},
   "source": [
    "# Modeling `PR.Status`"
   ]
  },
  {
   "cell_type": "markdown",
   "id": "a3bed7ff",
   "metadata": {},
   "source": [
    "## SVM w/ cross-validation"
   ]
  },
  {
   "cell_type": "code",
   "execution_count": 16,
   "id": "6b12fdc1",
   "metadata": {},
   "outputs": [],
   "source": [
    "from sklearn import linear_model, svm\n",
    "from sklearn.model_selection import cross_val_score"
   ]
  },
  {
   "cell_type": "code",
   "execution_count": 28,
   "id": "ec6efd7c",
   "metadata": {},
   "outputs": [],
   "source": [
    "reg = svm.SVC(kernel='linear', C=1, random_state=42)\n",
    "\n",
    "subset_brca_variables = brca_variables[(PR_Status == 0) | (PR_Status == 1)]\n",
    "subset_PR_Status = PR_Status[(PR_Status == 0) | (PR_Status == 1)]"
   ]
  },
  {
   "cell_type": "code",
   "execution_count": 29,
   "id": "e9c397cb",
   "metadata": {},
   "outputs": [
    {
     "data": {
      "text/plain": [
       "array([0.8       , 0.8440367 , 0.78899083, 0.80733945, 0.81651376])"
      ]
     },
     "execution_count": 29,
     "metadata": {},
     "output_type": "execute_result"
    }
   ],
   "source": [
    "scores = cross_val_score(reg, subset_brca_variables, subset_PR_Status, cv=5, scoring='accuracy')\n",
    "scores"
   ]
  },
  {
   "cell_type": "code",
   "execution_count": 30,
   "id": "d289ebb9",
   "metadata": {},
   "outputs": [
    {
     "name": "stdout",
     "output_type": "stream",
     "text": [
      "0.81 accuracy with a standard deviation of 0.02\n"
     ]
    }
   ],
   "source": [
    "print(\"%0.2f accuracy with a standard deviation of %0.2f\" % (scores.mean(), scores.std()))"
   ]
  },
  {
   "cell_type": "markdown",
   "id": "956cf820",
   "metadata": {},
   "source": [
    "## Logistic Regression"
   ]
  },
  {
   "cell_type": "code",
   "execution_count": 33,
   "id": "8c05cb21",
   "metadata": {},
   "outputs": [],
   "source": [
    "lr = linear_model.LogisticRegression(random_state=42)"
   ]
  },
  {
   "cell_type": "code",
   "execution_count": 34,
   "id": "1a0c446a",
   "metadata": {},
   "outputs": [
    {
     "name": "stderr",
     "output_type": "stream",
     "text": [
      "/Users/zihanxiong/opt/anaconda3/lib/python3.8/site-packages/sklearn/linear_model/_logistic.py:763: ConvergenceWarning: lbfgs failed to converge (status=1):\n",
      "STOP: TOTAL NO. of ITERATIONS REACHED LIMIT.\n",
      "\n",
      "Increase the number of iterations (max_iter) or scale the data as shown in:\n",
      "    https://scikit-learn.org/stable/modules/preprocessing.html\n",
      "Please also refer to the documentation for alternative solver options:\n",
      "    https://scikit-learn.org/stable/modules/linear_model.html#logistic-regression\n",
      "  n_iter_i = _check_optimize_result(\n",
      "/Users/zihanxiong/opt/anaconda3/lib/python3.8/site-packages/sklearn/linear_model/_logistic.py:763: ConvergenceWarning: lbfgs failed to converge (status=1):\n",
      "STOP: TOTAL NO. of ITERATIONS REACHED LIMIT.\n",
      "\n",
      "Increase the number of iterations (max_iter) or scale the data as shown in:\n",
      "    https://scikit-learn.org/stable/modules/preprocessing.html\n",
      "Please also refer to the documentation for alternative solver options:\n",
      "    https://scikit-learn.org/stable/modules/linear_model.html#logistic-regression\n",
      "  n_iter_i = _check_optimize_result(\n",
      "/Users/zihanxiong/opt/anaconda3/lib/python3.8/site-packages/sklearn/linear_model/_logistic.py:763: ConvergenceWarning: lbfgs failed to converge (status=1):\n",
      "STOP: TOTAL NO. of ITERATIONS REACHED LIMIT.\n",
      "\n",
      "Increase the number of iterations (max_iter) or scale the data as shown in:\n",
      "    https://scikit-learn.org/stable/modules/preprocessing.html\n",
      "Please also refer to the documentation for alternative solver options:\n",
      "    https://scikit-learn.org/stable/modules/linear_model.html#logistic-regression\n",
      "  n_iter_i = _check_optimize_result(\n",
      "/Users/zihanxiong/opt/anaconda3/lib/python3.8/site-packages/sklearn/linear_model/_logistic.py:763: ConvergenceWarning: lbfgs failed to converge (status=1):\n",
      "STOP: TOTAL NO. of ITERATIONS REACHED LIMIT.\n",
      "\n",
      "Increase the number of iterations (max_iter) or scale the data as shown in:\n",
      "    https://scikit-learn.org/stable/modules/preprocessing.html\n",
      "Please also refer to the documentation for alternative solver options:\n",
      "    https://scikit-learn.org/stable/modules/linear_model.html#logistic-regression\n",
      "  n_iter_i = _check_optimize_result(\n",
      "/Users/zihanxiong/opt/anaconda3/lib/python3.8/site-packages/sklearn/linear_model/_logistic.py:763: ConvergenceWarning: lbfgs failed to converge (status=1):\n",
      "STOP: TOTAL NO. of ITERATIONS REACHED LIMIT.\n",
      "\n",
      "Increase the number of iterations (max_iter) or scale the data as shown in:\n",
      "    https://scikit-learn.org/stable/modules/preprocessing.html\n",
      "Please also refer to the documentation for alternative solver options:\n",
      "    https://scikit-learn.org/stable/modules/linear_model.html#logistic-regression\n",
      "  n_iter_i = _check_optimize_result(\n"
     ]
    },
    {
     "data": {
      "text/plain": [
       "array([0.81818182, 0.86238532, 0.81651376, 0.80733945, 0.83486239])"
      ]
     },
     "execution_count": 34,
     "metadata": {},
     "output_type": "execute_result"
    }
   ],
   "source": [
    "scores2 = cross_val_score(lr, subset_brca_variables, subset_PR_Status, cv=5, scoring='accuracy')\n",
    "scores2"
   ]
  },
  {
   "cell_type": "code",
   "execution_count": 35,
   "id": "f90070e7",
   "metadata": {},
   "outputs": [
    {
     "name": "stdout",
     "output_type": "stream",
     "text": [
      "0.83 accuracy with a standard deviation of 0.02\n"
     ]
    }
   ],
   "source": [
    "print(\"%0.2f accuracy with a standard deviation of %0.2f\" % (scores2.mean(), scores2.std()))"
   ]
  },
  {
   "cell_type": "markdown",
   "id": "3ed1767a",
   "metadata": {},
   "source": [
    "# Modeling `histological.type`"
   ]
  },
  {
   "cell_type": "code",
   "execution_count": 23,
   "id": "d7a3f106",
   "metadata": {},
   "outputs": [],
   "source": [
    "subset_brca_variables = brca_variables[(HIST == 0) | (HIST == 1)]\n",
    "subset_HIST_Status = HIST[(HIST == 0) | (HIST == 1)]"
   ]
  },
  {
   "cell_type": "markdown",
   "id": "dfe42fd8",
   "metadata": {},
   "source": [
    "## KNN"
   ]
  },
  {
   "cell_type": "code",
   "execution_count": 24,
   "id": "52f0e661",
   "metadata": {},
   "outputs": [],
   "source": [
    "from sklearn.neighbors import KNeighborsRegressor\n",
    "\n",
    "ks = np.arange(1, 11)\n",
    "means = []\n",
    "stds = []\n",
    "for k in ks:\n",
    "    reg = KNeighborsRegressor(n_neighbors=k)\n",
    "\n",
    "    scores = cross_val_score(reg, subset_brca_variables, subset_HIST_Status, cv=5, scoring=\"roc_auc\")\n",
    "\n",
    "    means.append(scores.mean())\n",
    "    stds.append(scores.std())"
   ]
  },
  {
   "cell_type": "code",
   "execution_count": 25,
   "id": "edab74bd",
   "metadata": {},
   "outputs": [
    {
     "data": {
      "image/png": "[encoded data removed]",
      "text/plain": [
       "<Figure size 432x288 with 1 Axes>"
      ]
     },
     "metadata": {
      "needs_background": "light"
     },
     "output_type": "display_data"
    }
   ],
   "source": [
    "plt.errorbar(ks, means, stds, linestyle='None', marker='^')\n",
    "plt.xlabel(\"K\")\n",
    "plt.ylabel(\"Mean AUC\")\n",
    "plt.show()"
   ]
  },
  {
   "cell_type": "markdown",
   "id": "83343fab",
   "metadata": {},
   "source": [
    "## Random Forest"
   ]
  },
  {
   "cell_type": "code",
   "execution_count": 26,
   "id": "9ab6b6cb",
   "metadata": {},
   "outputs": [],
   "source": [
    "from sklearn.ensemble import RandomForestClassifier\n",
    "\n",
    "depths = np.arange(1, 11)\n",
    "means = []\n",
    "stds = []\n",
    "for d in depths:\n",
    "    reg = RandomForestClassifier(max_depth=d, random_state=0)\n",
    "\n",
    "    scores = cross_val_score(reg, subset_brca_variables, subset_HIST_Status, cv=5, scoring=\"roc_auc\")\n",
    "\n",
    "    means.append(scores.mean())\n",
    "    stds.append(scores.std())"
   ]
  },
  {
   "cell_type": "code",
   "execution_count": 27,
   "id": "cfb2948e",
   "metadata": {},
   "outputs": [
    {
     "data": {
      "image/png": "[encoded data removed]",
      "text/plain": [
       "<Figure size 432x288 with 1 Axes>"
      ]
     },
     "metadata": {
      "needs_background": "light"
     },
     "output_type": "display_data"
    }
   ],
   "source": [
    "plt.errorbar(ks, means, stds, linestyle='None', marker='^')\n",
    "plt.xlabel(\"K\")\n",
    "plt.ylabel(\"Mean AUC\")\n",
    "plt.show()"
   ]
  },
  {
   "cell_type": "markdown",
   "id": "f6350707",
   "metadata": {},
   "source": [
    "# Variable Selection for All Outcomes"
   ]
  },
  {
   "cell_type": "code",
   "execution_count": null,
   "id": "34a36c67",
   "metadata": {},
   "outputs": [],
   "source": []
  }
 ],
 "metadata": {
  "kernelspec": {
   "display_name": "Python 3",
   "language": "python",
   "name": "python3"
  },
  "language_info": {
   "codemirror_mode": {
    "name": "ipython",
    "version": 3
   },
   "file_extension": ".py",
   "mimetype": "text/x-python",
   "name": "python",
   "nbconvert_exporter": "python",
   "pygments_lexer": "ipython3",
   "version": "3.8.8"
  }
 },
 "nbformat": 4,
 "nbformat_minor": 5
}
