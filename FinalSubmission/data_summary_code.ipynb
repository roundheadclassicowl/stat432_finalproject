{
 "cells": [
  {
   "cell_type": "markdown",
   "id": "4b395d4b",
   "metadata": {},
   "source": [
    "# Summary Statistics and data processing"
   ]
  },
  {
   "cell_type": "code",
   "execution_count": 2,
   "id": "fa5e7438",
   "metadata": {},
   "outputs": [],
   "source": [
    "import pandas as pd\n",
    "import numpy as np\n",
    "from numpy import nan\n",
    "import seaborn as sns\n",
    "from scipy import stats\n",
    "import matplotlib.pyplot as plt\n",
    "import random\n",
    "import warnings\n",
    "warnings.filterwarnings('ignore')"
   ]
  },
  {
   "cell_type": "code",
   "execution_count": 3,
   "id": "0fb91717",
   "metadata": {
    "scrolled": true
   },
   "outputs": [
    {
     "name": "stdout",
     "output_type": "stream",
     "text": [
      "<class 'pandas.core.frame.DataFrame'>\n",
      "RangeIndex: 705 entries, 0 to 704\n",
      "Columns: 1941 entries, rs_CLEC3A to histological.type\n",
      "dtypes: float64(827), int64(1110), object(4)\n",
      "memory usage: 10.4+ MB\n"
     ]
    }
   ],
   "source": [
    "brca = pd.read_csv('brca_data_w_subtypes.csv')\n",
    "PR_Status = brca['PR.Status']\n",
    "ER_Status = brca['ER.Status'] \n",
    "HER2 = brca['HER2.Final.Status']\n",
    "HIST = brca['histological.type']\n",
    "variables = brca.drop(['vital.status', 'PR.Status', 'ER.Status', 'HER2.Final.Status', 'histological.type'], axis=1)\n",
    "outcomes = brca[['vital.status', 'PR.Status', 'ER.Status', 'HER2.Final.Status', 'histological.type']]\n",
    "brca.info()"
   ]
  },
  {
   "cell_type": "markdown",
   "id": "4d5f86d3",
   "metadata": {},
   "source": [
    "This dataset contains 1941 columns and 705 rows. 1936 features and 4 outcomes would be used for further analysis and modeling."
   ]
  },
  {
   "cell_type": "code",
   "execution_count": 3,
   "id": "8c68e361",
   "metadata": {
    "scrolled": true
   },
   "outputs": [
    {
     "name": "stdout",
     "output_type": "stream",
     "text": [
      "<class 'pandas.core.frame.DataFrame'>\n",
      "Int64Index: 507 entries, 0 to 649\n",
      "Columns: 1936 entries, rs_CLEC3A to pp_p90RSK.pT359.S363\n",
      "dtypes: float64(827), int64(1109)\n",
      "memory usage: 7.5 MB\n"
     ]
    }
   ],
   "source": [
    "filter_brca = brca[((brca['PR.Status'] == 'Positive') | (brca['PR.Status'] == 'Negative')) & ((brca['ER.Status'] == 'Positive') | (brca['ER.Status'] == 'Negative')) & ((brca['HER2.Final.Status'] == 'Positive') | (brca['HER2.Final.Status'] == 'Negative'))]\n",
    "brca_variables = filter_brca.drop(['vital.status', 'PR.Status', 'ER.Status', 'HER2.Final.Status', 'histological.type'], axis=1)\n",
    "brca_outcomes = filter_brca[['vital.status', 'PR.Status', 'ER.Status', 'HER2.Final.Status', 'histological.type']]\n",
    "brca_variables.info()"
   ]
  },
  {
   "cell_type": "markdown",
   "id": "af31ccf1",
   "metadata": {},
   "source": [
    "Since we are interesting with the relationship between `PR.Status`, `ER.Status`, `HER2.Final.Status`, `histological.type` and other variables, we will only keep observations with values “Positive” and “Negative” and “infiltrating lobular carcinoma” and “infiltrating ductal carcinoma”.  "
   ]
  },
  {
   "cell_type": "markdown",
   "id": "02dd2b04",
   "metadata": {},
   "source": [
    "### To do univariate analysis for these data, we would do these respectively for categorical and continuous variables. \n",
    "#### Before that we would check for the presence of missing values in this dataset.\n",
    "#### For categorical variables, we would first examine that if the variable that is extremely unbalanced. And for the continuous variables, we would identifying the outliers."
   ]
  },
  {
   "cell_type": "code",
   "execution_count": 4,
   "id": "4d61722f",
   "metadata": {},
   "outputs": [
    {
     "data": {
      "text/plain": [
       "Series([], dtype: int64)"
      ]
     },
     "execution_count": 4,
     "metadata": {},
     "output_type": "execute_result"
    }
   ],
   "source": [
    "missing_value = brca_variables.isnull().sum()\n",
    "missing_value[missing_value!=0]"
   ]
  },
  {
   "cell_type": "markdown",
   "id": "69a51b83",
   "metadata": {},
   "source": [
    "#### It is good that there is no missing value appeared for all the features in the dataset, so we could move forward for further analysis on this data.\n",
    "According to the data description on Kaggle, there are four groups of features, which are `mu` (somatic mutation (yes, no)), `cn` (copy number variation as calculated by gistic (-2,-1,0,1,2)), `rs` (rna sequencing i.e. gene expression) and `pp` (phospho-protein levels). \n",
    "\n",
    "To get an in-depth understanding of our data and do a univariate analysis for each variable, we need to check the balence between different categories for each categorical variable (`mu` and `cn`) and identify outliers for continuous variables (`rs` and `pp`)."
   ]
  },
  {
   "cell_type": "code",
   "execution_count": 5,
   "id": "b4150038",
   "metadata": {},
   "outputs": [],
   "source": [
    "filter_col_mu = [col for col in brca_variables if col.startswith('mu')]\n",
    "filter_col_cn = [col for col in brca_variables if col.startswith('cn')]\n",
    "filter_col_rs = [col for col in brca_variables if col.startswith('rs')]\n",
    "filter_col_pp = [col for col in brca_variables if col.startswith('pp')]\n",
    "brca_variables_mu = brca_variables[filter_col_mu]\n",
    "brca_variables_cn = brca_variables[filter_col_cn]\n",
    "brca_variables_rs = brca_variables[filter_col_rs]\n",
    "brca_variables_pp = brca_variables[filter_col_pp]"
   ]
  },
  {
   "cell_type": "markdown",
   "id": "1b004c64",
   "metadata": {},
   "source": [
    "## Check balance between each category for categorical predictors:\n",
    "#### For `mu` and `cn` continuous variables, we need to the disturbution of observations' response for each category that might affect the prediction effect for later modeling."
   ]
  },
  {
   "cell_type": "code",
   "execution_count": 6,
   "id": "3258050a",
   "metadata": {},
   "outputs": [],
   "source": [
    "## Check balance between each category for mu variables\n",
    "def check_balance(df2):\n",
    "    col = []\n",
    "    for column in df2:\n",
    "        if df2.loc[:,column].value_counts()[0] - df2.loc[:,column].value_counts()[1] > 0:\n",
    "            dif = df2.loc[:,column].value_counts()[1]/df2.loc[:,column].value_counts()[0]\n",
    "            if dif < 0.05:\n",
    "                col.append(column)\n",
    "        else:\n",
    "            dif = df2.loc[:,column].value_counts()[0]/df2.loc[:,column].value_counts()[1]\n",
    "            if dif < 0.05:\n",
    "                col.append(column)\n",
    "    return col"
   ]
  },
  {
   "cell_type": "code",
   "execution_count": 8,
   "id": "02325979",
   "metadata": {},
   "outputs": [
    {
     "data": {
      "text/plain": [
       "(507, 249)"
      ]
     },
     "execution_count": 8,
     "metadata": {},
     "output_type": "execute_result"
    }
   ],
   "source": [
    "brca_variables_mu.shape"
   ]
  },
  {
   "cell_type": "code",
   "execution_count": 22,
   "id": "4413d8ff",
   "metadata": {
    "scrolled": false
   },
   "outputs": [
    {
     "data": {
      "text/plain": [
       "231"
      ]
     },
     "execution_count": 22,
     "metadata": {},
     "output_type": "execute_result"
    }
   ],
   "source": [
    "len(check_balance(brca_variables_mu))"
   ]
  },
  {
   "cell_type": "code",
   "execution_count": 19,
   "id": "2307f56d",
   "metadata": {},
   "outputs": [
    {
     "data": {
      "image/png": "[encoded data removed]",
      "text/plain": [
       "<Figure size 432x144 with 5 Axes>"
      ]
     },
     "metadata": {
      "needs_background": "light"
     },
     "output_type": "display_data"
    }
   ],
   "source": [
    "random.seed(0)\n",
    "sample_mu = brca_variables_mu.sample(n=5,axis='columns')\n",
    "##Visualize the randomly selected variables\n",
    "count=1\n",
    "plt.figure(figsize=(6,2))\n",
    "for i in sample_mu.columns.tolist():\n",
    "    plt.subplot(1,len(sample_mu.columns.tolist()),count)\n",
    "    sns.countplot(x=i, data=brca_variables_mu)\n",
    "    count+=1\n",
    "plt.show()"
   ]
  },
  {
   "cell_type": "markdown",
   "id": "cdf08caa",
   "metadata": {},
   "source": [
    "#### By looking at the frequency of the two categories of  `mu`  binary  variables, a vast majority of these variables are unbalanced. 231 out of 249 variables have less than a ratio of 5:100 of frequency."
   ]
  },
  {
   "cell_type": "code",
   "execution_count": 20,
   "id": "e8caa74d",
   "metadata": {},
   "outputs": [],
   "source": [
    "## Check balance between each category for cn variables\n",
    "def check_balance_1(df2):\n",
    "    col = []\n",
    "    for column in df2:\n",
    "        if df2.loc[:,column].value_counts().max() - df2.loc[:,column].value_counts().min() > 172:\n",
    "            col.append(column)\n",
    "    return col"
   ]
  },
  {
   "cell_type": "code",
   "execution_count": 21,
   "id": "306afc86",
   "metadata": {},
   "outputs": [
    {
     "name": "stdout",
     "output_type": "stream",
     "text": [
      "<class 'pandas.core.frame.DataFrame'>\n",
      "Int64Index: 507 entries, 0 to 649\n",
      "Columns: 860 entries, cn_ISG15 to cn_MLC1\n",
      "dtypes: int64(860)\n",
      "memory usage: 3.3 MB\n"
     ]
    }
   ],
   "source": [
    "brca_variables_cn.info()"
   ]
  },
  {
   "cell_type": "code",
   "execution_count": 22,
   "id": "ddf27da3",
   "metadata": {},
   "outputs": [
    {
     "data": {
      "text/plain": [
       "843"
      ]
     },
     "execution_count": 22,
     "metadata": {},
     "output_type": "execute_result"
    }
   ],
   "source": [
    "len(check_balance_1(brca_variables_cn))"
   ]
  },
  {
   "cell_type": "markdown",
   "id": "9bcb27cb",
   "metadata": {},
   "source": [
    "#### By looking at the frequency disturbution of the five categories of  `cn` categorical variables, also, observation records of these variables are not equally disturbuted among those five categories. Let take some examples to see how they are disturbuted."
   ]
  },
  {
   "cell_type": "code",
   "execution_count": 27,
   "id": "9372668d",
   "metadata": {
    "scrolled": false
   },
   "outputs": [
    {
     "data": {
      "image/png": "[encoded data removed]",
      "text/plain": [
       "<Figure size 576x144 with 5 Axes>"
      ]
     },
     "metadata": {
      "needs_background": "light"
     },
     "output_type": "display_data"
    }
   ],
   "source": [
    "random.seed(0)\n",
    "sample_cn = brca_variables_cn.sample(n=5,axis='columns')\n",
    "\n",
    "##Visualize the randomly selected variables\n",
    "count=1\n",
    "plt.figure(figsize=(8,2))\n",
    "for i in sample_cn.columns.tolist():\n",
    "    plt.subplot(1,len(sample_cn.columns.tolist()),count)\n",
    "    sns.countplot(x=i, data=brca_variables_cn)\n",
    "    count+=1\n",
    "plt.show()"
   ]
  },
  {
   "cell_type": "markdown",
   "id": "96bf84b0",
   "metadata": {},
   "source": [
    "5 `cn` variables are randomly selected with their corresponding frequency plot, we can see that observations' records vary quite significantly, and their responses are not evenly disturbuted among 4 categories (-2,-1,0,1,2). A vast majority of patients reported 0 and 1 number variation as calculated by gistic for these predictor. \n",
    "\n",
    "Since classification algorithms are sensitive to unbalance in the predictor classes and an unbalanced dataset will bias the prediction model towards the more common class, here in this case is 0 and 1, we might need to consider some alternatives for dealing with these predictors: \n",
    "\n",
    "1. Doing  sampling for these discrete variables before doing prediction with classification modeling to ensure an equal number of observations for each class;\n",
    "2. Dropping the class that has only few observations to avoid bias caused by undersampling. "
   ]
  },
  {
   "cell_type": "markdown",
   "id": "d6a68b81",
   "metadata": {},
   "source": [
    "## Identifying outliers for continuous predictors:\n",
    "### For `rs` and `pp` continuous variables, we need to check the existence of outliers that might affect the prediction effect for later modeling.\n",
    "\n",
    "#### `rs` variables"
   ]
  },
  {
   "cell_type": "code",
   "execution_count": 28,
   "id": "ea0c9740",
   "metadata": {},
   "outputs": [
    {
     "data": {
      "text/plain": [
       "(507, 604)"
      ]
     },
     "execution_count": 28,
     "metadata": {},
     "output_type": "execute_result"
    }
   ],
   "source": [
    "brca_variables_rs.shape"
   ]
  },
  {
   "cell_type": "code",
   "execution_count": 29,
   "id": "c1ab48ea",
   "metadata": {},
   "outputs": [
    {
     "data": {
      "text/plain": [
       "(507, 223)"
      ]
     },
     "execution_count": 29,
     "metadata": {},
     "output_type": "execute_result"
    }
   ],
   "source": [
    "brca_variables_pp.shape"
   ]
  },
  {
   "cell_type": "code",
   "execution_count": 30,
   "id": "f80e2f20",
   "metadata": {},
   "outputs": [],
   "source": [
    "## Identifying variables with outliners, and their corresponding number of outliers\n",
    "def identify_outlier(df):\n",
    "    Q1=df.quantile(0.25)\n",
    "    Q3=df.quantile(0.75)\n",
    "    IQR=Q3-Q1\n",
    "    df_final=df[((df<(Q1-1.5*IQR)) | (df>(Q3+1.5*IQR)))]\n",
    "    return df_final, len(df_final)\n",
    "def find_col(df2):\n",
    "    col = []\n",
    "    num = []\n",
    "    for column in df2:\n",
    "        if identify_outlier(df2.loc[:,column])[1] != 0:\n",
    "            col.append(column)\n",
    "            num.append(identify_outlier(df2.loc[:,column])[1])\n",
    "    res = {col[i]: num[i] for i in range(len(col))}\n",
    "    return res"
   ]
  },
  {
   "cell_type": "code",
   "execution_count": 31,
   "id": "acbbb6f6",
   "metadata": {},
   "outputs": [
    {
     "data": {
      "text/html": [
       "<div>\n",
       "<style scoped>\n",
       "    .dataframe tbody tr th:only-of-type {\n",
       "        vertical-align: middle;\n",
       "    }\n",
       "\n",
       "    .dataframe tbody tr th {\n",
       "        vertical-align: top;\n",
       "    }\n",
       "\n",
       "    .dataframe thead th {\n",
       "        text-align: right;\n",
       "    }\n",
       "</style>\n",
       "<table border=\"1\" class=\"dataframe\">\n",
       "  <thead>\n",
       "    <tr style=\"text-align: right;\">\n",
       "      <th></th>\n",
       "      <th>0</th>\n",
       "      <th>1</th>\n",
       "    </tr>\n",
       "  </thead>\n",
       "  <tbody>\n",
       "    <tr>\n",
       "      <th>0</th>\n",
       "      <td>rs_S100A7</td>\n",
       "      <td>9</td>\n",
       "    </tr>\n",
       "    <tr>\n",
       "      <th>1</th>\n",
       "      <td>rs_SERPINA6</td>\n",
       "      <td>1</td>\n",
       "    </tr>\n",
       "    <tr>\n",
       "      <th>2</th>\n",
       "      <td>rs_AGR3</td>\n",
       "      <td>40</td>\n",
       "    </tr>\n",
       "    <tr>\n",
       "      <th>3</th>\n",
       "      <td>rs_C4orf7</td>\n",
       "      <td>5</td>\n",
       "    </tr>\n",
       "    <tr>\n",
       "      <th>4</th>\n",
       "      <td>rs_SLC30A8</td>\n",
       "      <td>1</td>\n",
       "    </tr>\n",
       "    <tr>\n",
       "      <th>...</th>\n",
       "      <td>...</td>\n",
       "      <td>...</td>\n",
       "    </tr>\n",
       "    <tr>\n",
       "      <th>300</th>\n",
       "      <td>rs_DEFB132</td>\n",
       "      <td>8</td>\n",
       "    </tr>\n",
       "    <tr>\n",
       "      <th>301</th>\n",
       "      <td>rs_APOB</td>\n",
       "      <td>26</td>\n",
       "    </tr>\n",
       "    <tr>\n",
       "      <th>302</th>\n",
       "      <td>rs_SPHKAP</td>\n",
       "      <td>11</td>\n",
       "    </tr>\n",
       "    <tr>\n",
       "      <th>303</th>\n",
       "      <td>rs_DPYSL5</td>\n",
       "      <td>58</td>\n",
       "    </tr>\n",
       "    <tr>\n",
       "      <th>304</th>\n",
       "      <td>rs_HEPN1</td>\n",
       "      <td>11</td>\n",
       "    </tr>\n",
       "  </tbody>\n",
       "</table>\n",
       "<p>305 rows × 2 columns</p>\n",
       "</div>"
      ],
      "text/plain": [
       "               0   1\n",
       "0      rs_S100A7   9\n",
       "1    rs_SERPINA6   1\n",
       "2        rs_AGR3  40\n",
       "3      rs_C4orf7   5\n",
       "4     rs_SLC30A8   1\n",
       "..           ...  ..\n",
       "300   rs_DEFB132   8\n",
       "301      rs_APOB  26\n",
       "302    rs_SPHKAP  11\n",
       "303    rs_DPYSL5  58\n",
       "304     rs_HEPN1  11\n",
       "\n",
       "[305 rows x 2 columns]"
      ]
     },
     "execution_count": 31,
     "metadata": {},
     "output_type": "execute_result"
    }
   ],
   "source": [
    "def getList(dict):\n",
    "    return list(dict.keys())\n",
    "rs_outliers = getList(find_col(brca_variables_rs))\n",
    "# list of columns with outliers\n",
    "rs_outliers_num = list(find_col(brca_variables_rs). values())\n",
    "# list of numbers of outliers\n",
    "brca_variables_rs_outliers = brca_variables_rs[rs_outliers]\n",
    "pd_rs_outliers = pd.DataFrame(find_col(brca_variables_rs).items())\n",
    "pd_rs_outliers"
   ]
  },
  {
   "cell_type": "code",
   "execution_count": 32,
   "id": "1a11866d",
   "metadata": {},
   "outputs": [
    {
     "data": {
      "text/plain": [
       "(0, 10]       180\n",
       "(10, 50]      104\n",
       "(50, 100]      21\n",
       "(100, 500]      0\n",
       "Name: 1, dtype: int64"
      ]
     },
     "execution_count": 32,
     "metadata": {},
     "output_type": "execute_result"
    }
   ],
   "source": [
    "bins = [0, 10, 50, 100, 500]\n",
    "rs_ol_counts = pd.cut(pd_rs_outliers.iloc[:,1], bins)\n",
    "pd.value_counts(rs_ol_counts)"
   ]
  },
  {
   "cell_type": "code",
   "execution_count": 35,
   "id": "1c86f2c3",
   "metadata": {},
   "outputs": [
    {
     "data": {
      "image/png": "[encoded data removed]",
      "text/plain": [
       "<Figure size 1440x360 with 10 Axes>"
      ]
     },
     "metadata": {
      "needs_background": "light"
     },
     "output_type": "display_data"
    }
   ],
   "source": [
    "random.seed(5)\n",
    "sample_rs = brca_variables_rs[random.choices(rs_outliers, k=5)]\n",
    "\n",
    "##Visualize the randomly selected variables with outliers\n",
    "count=1\n",
    "plt.figure(figsize=(20,5))\n",
    "for i in sample_rs.columns.tolist():\n",
    "    plt.subplot(2,len(sample_rs.columns.tolist()),count)\n",
    "    sns.boxplot(x=i, data=brca_variables_rs)\n",
    "    \n",
    "    plt.subplot(2,len(sample_rs.columns.tolist()),count+5)\n",
    "    sns.distplot(brca_variables_rs[[i]])\n",
    "    plt.legend(labels=[find_col(brca_variables_rs).get(i),'outliers'])\n",
    "    count+=1\n",
    "plt.show()\n"
   ]
  },
  {
   "cell_type": "markdown",
   "id": "a9cd1e72",
   "metadata": {},
   "source": [
    "For `rs` variables, half of them have some numbers of outliers (305 out of 604) among which half have numbers of outliers less than 10. We can see from their histograms that the observations for these `rs` predictors do not follow a normal disturbution. As the algorithm is more likely to be biased when the data distribution is skewed, we might consider doing a transformation. Let's try some. The first histogram of the `rs_CXADRP3` variable above are right-skewed, and we might do a Log Transformation for it. And for the second one, there are a large number of extreme values, we might consider replacing those values with the median. In this unvariate analysis, we can't tell the significance of a certain variable for prediction accuracy and the effect outliers, decisions of using a transformation or eliminating the outliers is subject to the choice of classification algorithms."
   ]
  },
  {
   "cell_type": "code",
   "execution_count": 25,
   "id": "7ded1deb",
   "metadata": {
    "scrolled": false
   },
   "outputs": [
    {
     "data": {
      "text/plain": [
       "<matplotlib.legend.Legend at 0x7f9935b7c100>"
      ]
     },
     "execution_count": 25,
     "metadata": {},
     "output_type": "execute_result"
    },
    {
     "data": {
      "image/png": "[encoded data removed]",
      "text/plain": [
       "<Figure size 1440x216 with 2 Axes>"
      ]
     },
     "metadata": {
      "needs_background": "light"
     },
     "output_type": "display_data"
    }
   ],
   "source": [
    "plt.figure(figsize=(20,3))\n",
    "## Log transformation\n",
    "plt.subplot(1,2,1)\n",
    "sns.distplot(np.log10(brca_variables_rs['rs_CXADRP3']+1))\n",
    "sns.distplot(brca_variables_rs['rs_CXADRP3'])\n",
    "plt.legend(labels=['log transformation','original'])\n",
    "## Replacing outliers with median\n",
    "plt.subplot(1,2,2)\n",
    "replaceing = np.where(brca_variables_rs['rs_NTS'] > brca_variables_rs['rs_NTS'].quantile(0.95), brca_variables_rs['rs_NTS'].quantile(0.5), brca_variables_rs['rs_NTS'])\n",
    "sns.distplot(replaceing)\n",
    "sns.distplot(brca_variables_rs['rs_NTS'])\n",
    "plt.legend(labels=['replacing outliers with median','original'])        "
   ]
  },
  {
   "cell_type": "markdown",
   "id": "5954597a",
   "metadata": {},
   "source": [
    "For variable `rs_CXADRP3`, right-skewed with 5 outliers, after a log transformation, the disturbution is normalized and is more likely to enhance the accuracy for predictive modeling. \n",
    "For variable `rs_NTS`, right-skewed with 40 extreme outliers, after replacing those outliers with the median, has a better disturbution of observations. However, even outliers can adversely affect the training process of predictive modelling and resulting in a loss of accuracy, some of them might be valueable for considering some particular cases."
   ]
  },
  {
   "cell_type": "markdown",
   "id": "e2275f62",
   "metadata": {},
   "source": [
    "#### `pp` variables"
   ]
  },
  {
   "cell_type": "code",
   "execution_count": 36,
   "id": "37e4e375",
   "metadata": {
    "scrolled": true
   },
   "outputs": [
    {
     "name": "stdout",
     "output_type": "stream",
     "text": [
      "<class 'pandas.core.frame.DataFrame'>\n",
      "Int64Index: 507 entries, 0 to 649\n",
      "Columns: 223 entries, pp_X14.3.3.beta to pp_p90RSK.pT359.S363\n",
      "dtypes: float64(223)\n",
      "memory usage: 903.4 KB\n"
     ]
    }
   ],
   "source": [
    "brca_variables_pp.info()"
   ]
  },
  {
   "cell_type": "code",
   "execution_count": 37,
   "id": "3acf9910",
   "metadata": {},
   "outputs": [
    {
     "data": {
      "text/html": [
       "<div>\n",
       "<style scoped>\n",
       "    .dataframe tbody tr th:only-of-type {\n",
       "        vertical-align: middle;\n",
       "    }\n",
       "\n",
       "    .dataframe tbody tr th {\n",
       "        vertical-align: top;\n",
       "    }\n",
       "\n",
       "    .dataframe thead th {\n",
       "        text-align: right;\n",
       "    }\n",
       "</style>\n",
       "<table border=\"1\" class=\"dataframe\">\n",
       "  <thead>\n",
       "    <tr style=\"text-align: right;\">\n",
       "      <th></th>\n",
       "      <th>0</th>\n",
       "      <th>1</th>\n",
       "    </tr>\n",
       "  </thead>\n",
       "  <tbody>\n",
       "    <tr>\n",
       "      <th>0</th>\n",
       "      <td>pp_X14.3.3.beta</td>\n",
       "      <td>23</td>\n",
       "    </tr>\n",
       "    <tr>\n",
       "      <th>1</th>\n",
       "      <td>pp_X14.3.3.epsilon</td>\n",
       "      <td>19</td>\n",
       "    </tr>\n",
       "    <tr>\n",
       "      <th>2</th>\n",
       "      <td>pp_X14.3.3.zeta</td>\n",
       "      <td>14</td>\n",
       "    </tr>\n",
       "    <tr>\n",
       "      <th>3</th>\n",
       "      <td>pp_X4E.BP1</td>\n",
       "      <td>19</td>\n",
       "    </tr>\n",
       "    <tr>\n",
       "      <th>4</th>\n",
       "      <td>pp_X4E.BP1.pS65</td>\n",
       "      <td>10</td>\n",
       "    </tr>\n",
       "    <tr>\n",
       "      <th>...</th>\n",
       "      <td>...</td>\n",
       "      <td>...</td>\n",
       "    </tr>\n",
       "    <tr>\n",
       "      <th>215</th>\n",
       "      <td>pp_p62.LCK.ligand</td>\n",
       "      <td>12</td>\n",
       "    </tr>\n",
       "    <tr>\n",
       "      <th>216</th>\n",
       "      <td>pp_p70S6K</td>\n",
       "      <td>36</td>\n",
       "    </tr>\n",
       "    <tr>\n",
       "      <th>217</th>\n",
       "      <td>pp_p70S6K.pT389</td>\n",
       "      <td>26</td>\n",
       "    </tr>\n",
       "    <tr>\n",
       "      <th>218</th>\n",
       "      <td>pp_p90RSK</td>\n",
       "      <td>9</td>\n",
       "    </tr>\n",
       "    <tr>\n",
       "      <th>219</th>\n",
       "      <td>pp_p90RSK.pT359.S363</td>\n",
       "      <td>27</td>\n",
       "    </tr>\n",
       "  </tbody>\n",
       "</table>\n",
       "<p>220 rows × 2 columns</p>\n",
       "</div>"
      ],
      "text/plain": [
       "                        0   1\n",
       "0         pp_X14.3.3.beta  23\n",
       "1      pp_X14.3.3.epsilon  19\n",
       "2         pp_X14.3.3.zeta  14\n",
       "3              pp_X4E.BP1  19\n",
       "4         pp_X4E.BP1.pS65  10\n",
       "..                    ...  ..\n",
       "215     pp_p62.LCK.ligand  12\n",
       "216             pp_p70S6K  36\n",
       "217       pp_p70S6K.pT389  26\n",
       "218             pp_p90RSK   9\n",
       "219  pp_p90RSK.pT359.S363  27\n",
       "\n",
       "[220 rows x 2 columns]"
      ]
     },
     "execution_count": 37,
     "metadata": {},
     "output_type": "execute_result"
    }
   ],
   "source": [
    "pp_outliers = getList(find_col(brca_variables_pp))\n",
    "# list of columns with outliers\n",
    "pp_outliers_num = list(find_col(brca_variables_pp). values())\n",
    "# list of numbers of outliers\n",
    "brca_variables_pp_outliers = brca_variables_pp[pp_outliers]\n",
    "pd_pp_outliers = pd.DataFrame(find_col(brca_variables_pp).items())\n",
    "pd_pp_outliers"
   ]
  },
  {
   "cell_type": "code",
   "execution_count": 30,
   "id": "ea7a94e8",
   "metadata": {
    "scrolled": false
   },
   "outputs": [
    {
     "data": {
      "text/plain": [
       "(10, 50]      155\n",
       "(0, 10]        60\n",
       "(50, 100]       5\n",
       "(100, 500]      0\n",
       "Name: 1, dtype: int64"
      ]
     },
     "execution_count": 30,
     "metadata": {},
     "output_type": "execute_result"
    }
   ],
   "source": [
    "bins = [0, 10, 50, 100, 500]\n",
    "pp_ol_counts = pd.cut(pd_pp_outliers.iloc[:,1], bins)\n",
    "pd.value_counts(pp_ol_counts)"
   ]
  },
  {
   "cell_type": "code",
   "execution_count": 38,
   "id": "f4cbf25b",
   "metadata": {
    "scrolled": false
   },
   "outputs": [
    {
     "data": {
      "image/png": "[encoded data removed]",
      "text/plain": [
       "<Figure size 1440x360 with 10 Axes>"
      ]
     },
     "metadata": {
      "needs_background": "light"
     },
     "output_type": "display_data"
    }
   ],
   "source": [
    "random.seed(5)\n",
    "sample_pp = brca_variables_pp[random.choices(pp_outliers, k=5)]\n",
    "\n",
    "##Visualize the randomly selected variables with outliers\n",
    "count=1\n",
    "plt.figure(figsize=(20,5))\n",
    "for i in sample_pp.columns.tolist():\n",
    "    plt.subplot(2,len(sample_pp.columns.tolist()),count)\n",
    "    sns.boxplot(x=i, data=brca_variables_pp)\n",
    "    \n",
    "    plt.subplot(2,len(sample_pp.columns.tolist()),count+5)\n",
    "    sns.distplot(brca_variables_pp[[i]])\n",
    "    plt.legend(labels=[find_col(brca_variables_pp).get(i),'outliers'])\n",
    "    count+=1\n",
    "plt.show()\n"
   ]
  },
  {
   "cell_type": "markdown",
   "id": "5af70413",
   "metadata": {},
   "source": [
    "For `pp` variables, almost every variable has some numbers of outliers (220 out of 223) and fewer than 20 percent of them have a number of outliers less than 10. We can see from their histograms that the observations for these `pp` predictors generally follow a normal disturbution. "
   ]
  }
 ],
 "metadata": {
  "kernelspec": {
   "display_name": "Python 3 (ipykernel)",
   "language": "python",
   "name": "python3"
  },
  "language_info": {
   "codemirror_mode": {
    "name": "ipython",
    "version": 3
   },
   "file_extension": ".py",
   "mimetype": "text/x-python",
   "name": "python",
   "nbconvert_exporter": "python",
   "pygments_lexer": "ipython3",
   "version": "3.9.7"
  }
 },
 "nbformat": 4,
 "nbformat_minor": 5
}
